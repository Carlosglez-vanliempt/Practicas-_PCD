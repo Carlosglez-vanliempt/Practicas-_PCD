{
 "cells": [
  {
   "cell_type": "code",
   "execution_count": 39,
   "id": "b33fac59-f4e7-4569-8f37-fdb23bf3242a",
   "metadata": {},
   "outputs": [],
   "source": [
    "import os \n",
    "import multiprocessing as mp\n",
    "import numpy as np\n",
    "import random as rm"
   ]
  },
  {
   "cell_type": "code",
   "execution_count": 36,
   "id": "177d7bd7-39eb-4560-a380-7e3807443f3e",
   "metadata": {},
   "outputs": [
    {
     "name": "stdin",
     "output_type": "stream",
     "text": [
      "Numero de filas de tu primera matriz: 4\n"
     ]
    }
   ],
   "source": [
    "filas1 = int(input(\"Numero de filas de tu primera matriz:\"))"
   ]
  },
  {
   "cell_type": "code",
   "execution_count": 37,
   "id": "57c03656-954b-452b-8531-0bf2c0cb80b1",
   "metadata": {},
   "outputs": [
    {
     "name": "stdin",
     "output_type": "stream",
     "text": [
      "Numero de columnas de tu primera matriz: 2\n"
     ]
    }
   ],
   "source": [
    "columnas1 = int(input(\"Numero de columnas de tu primera matriz:\"))"
   ]
  },
  {
   "cell_type": "code",
   "execution_count": 29,
   "id": "b655fefa-dc03-46a3-a91e-5d28a2bb0622",
   "metadata": {},
   "outputs": [
    {
     "name": "stdin",
     "output_type": "stream",
     "text": [
      "Numero de filas de tu segunda matriz: 2\n"
     ]
    }
   ],
   "source": [
    "filas2 = int(input(\"Numero de filas de tu segunda matriz:\"))"
   ]
  },
  {
   "cell_type": "code",
   "execution_count": 30,
   "id": "0cd6da08-3b2a-4336-b0b8-483b162cdd90",
   "metadata": {},
   "outputs": [
    {
     "name": "stdin",
     "output_type": "stream",
     "text": [
      "Numero de columnas de tu segunda matriz: 3\n"
     ]
    }
   ],
   "source": [
    "columnas2 = int(input(\"Numero de columnas de tu segunda matriz:\"))"
   ]
  },
  {
   "cell_type": "code",
   "execution_count": 38,
   "id": "c028fda9-63ae-4814-833b-5bfa3d1a04d6",
   "metadata": {},
   "outputs": [
    {
     "data": {
      "text/plain": [
       "[[0, 1], [0, 1], [0, 1], [0, 1]]"
      ]
     },
     "execution_count": 38,
     "metadata": {},
     "output_type": "execute_result"
    }
   ],
   "source": [
    "A = [list(range(columnas1)) for _ in range(filas1)]\n",
    "B = [list(range(columnas2)) for _ in range(filas2)]\n",
    "\n",
    "A\n",
    "c = rm.randint\n",
    "\n"
   ]
  },
  {
   "cell_type": "code",
   "execution_count": null,
   "id": "c5d3ab99-d5ec-4750-ab3e-f09caadb2eec",
   "metadata": {},
   "outputs": [],
   "source": []
  },
  {
   "cell_type": "code",
   "execution_count": null,
   "id": "d6a4fc0e-cf6f-4fec-b588-0598233b865d",
   "metadata": {},
   "outputs": [],
   "source": []
  }
 ],
 "metadata": {
  "kernelspec": {
   "display_name": "Python 3",
   "language": "python",
   "name": "python3"
  },
  "language_info": {
   "codemirror_mode": {
    "name": "ipython",
    "version": 3
   },
   "file_extension": ".py",
   "mimetype": "text/x-python",
   "name": "python",
   "nbconvert_exporter": "python",
   "pygments_lexer": "ipython3",
   "version": "3.8.8"
  }
 },
 "nbformat": 4,
 "nbformat_minor": 5
}
