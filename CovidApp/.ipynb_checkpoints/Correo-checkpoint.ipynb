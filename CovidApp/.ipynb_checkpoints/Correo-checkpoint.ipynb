{
 "cells": [
  {
   "cell_type": "code",
   "execution_count": 1,
   "id": "7dc359ea",
   "metadata": {},
   "outputs": [],
   "source": [
    "import smtplib, ssl"
   ]
  },
  {
   "cell_type": "code",
   "execution_count": 2,
   "id": "8a2b5b50",
   "metadata": {},
   "outputs": [],
   "source": [
    "import getpass"
   ]
  },
  {
   "cell_type": "code",
   "execution_count": 3,
   "id": "b4652175",
   "metadata": {},
   "outputs": [],
   "source": [
    "from email.mime.text import MIMEText\n",
    "from email.mime.multipart import MIMEMultipart"
   ]
  },
  {
   "cell_type": "code",
   "execution_count": 4,
   "id": "0839ac2f",
   "metadata": {},
   "outputs": [
    {
     "name": "stdout",
     "output_type": "stream",
     "text": [
      "Ingrese su password: ········\n",
      "Ingrese destinatario: farrenyalvaro@gmail.com\n",
      "Ingrese el asunto: Descansa\n"
     ]
    }
   ],
   "source": [
    "username = \"trabajofinalpcd2022@gmail.com\"\n",
    "password = getpass.getpass(\"Ingrese su password: \")\n",
    "destinatario = input(\"Ingrese destinatario: \")\n",
    "asunto= input(\"Ingrese el asunto: \")"
   ]
  },
  {
   "cell_type": "code",
   "execution_count": 5,
   "id": "ac08229d",
   "metadata": {},
   "outputs": [],
   "source": [
    "mensaje = MIMEMultipart(\"alternative\")\n",
    "mensaje[\"Subject\"] = asunto\n",
    "mensaje[\"From\"] = username\n",
    "mensaje[\"To\"] = destinatario"
   ]
  },
  {
   "cell_type": "code",
   "execution_count": 6,
   "id": "5df2335e",
   "metadata": {},
   "outputs": [],
   "source": [
    "html = f\"\"\"\n",
    "<html>\n",
    "<body>\n",
    "    Hola <i>{destinatario}</i><br>\n",
    "    Espero que estés <b>muy bien</b>\n",
    "</body>\n",
    "</html>\n",
    "\"\"\""
   ]
  },
  {
   "cell_type": "code",
   "execution_count": 7,
   "id": "b9323eb4",
   "metadata": {},
   "outputs": [],
   "source": [
    "parte_html = MIMEText(html, \"html\")\n",
    "mensaje.attach(parte_html)"
   ]
  },
  {
   "cell_type": "code",
   "execution_count": 8,
   "id": "132c1d9b",
   "metadata": {},
   "outputs": [],
   "source": [
    "context = ssl.create_default_context()"
   ]
  },
  {
   "cell_type": "code",
   "execution_count": 9,
   "id": "80727efd",
   "metadata": {},
   "outputs": [
    {
     "name": "stdout",
     "output_type": "stream",
     "text": [
      "Inicio Sesión\n",
      "Ingrese el mensaje: Duerme bien campeón\n"
     ]
    },
    {
     "ename": "AttributeError",
     "evalue": "'str' object has no attribute 'as_String'",
     "output_type": "error",
     "traceback": [
      "\u001b[1;31m---------------------------------------------------------------------------\u001b[0m",
      "\u001b[1;31mAttributeError\u001b[0m                            Traceback (most recent call last)",
      "\u001b[1;32mC:\\Users\\ALEJAN~1\\AppData\\Local\\Temp/ipykernel_14112/3765653609.py\u001b[0m in \u001b[0;36m<module>\u001b[1;34m\u001b[0m\n\u001b[0;32m      3\u001b[0m     \u001b[0mprint\u001b[0m\u001b[1;33m(\u001b[0m\u001b[1;34m\"Inicio Sesión\"\u001b[0m\u001b[1;33m)\u001b[0m\u001b[1;33m\u001b[0m\u001b[1;33m\u001b[0m\u001b[0m\n\u001b[0;32m      4\u001b[0m     \u001b[0mmensaje\u001b[0m \u001b[1;33m=\u001b[0m \u001b[0minput\u001b[0m\u001b[1;33m(\u001b[0m\u001b[1;34m\"Ingrese el mensaje: \"\u001b[0m\u001b[1;33m)\u001b[0m\u001b[1;33m\u001b[0m\u001b[1;33m\u001b[0m\u001b[0m\n\u001b[1;32m----> 5\u001b[1;33m     \u001b[0mserver\u001b[0m\u001b[1;33m.\u001b[0m\u001b[0msendmail\u001b[0m\u001b[1;33m(\u001b[0m\u001b[0musername\u001b[0m\u001b[1;33m,\u001b[0m \u001b[0mdestinatario\u001b[0m\u001b[1;33m,\u001b[0m \u001b[0mmensaje\u001b[0m\u001b[1;33m,\u001b[0m \u001b[0mmensaje\u001b[0m\u001b[1;33m.\u001b[0m\u001b[0mas_String\u001b[0m\u001b[1;33m(\u001b[0m\u001b[1;33m)\u001b[0m\u001b[1;33m)\u001b[0m\u001b[1;33m\u001b[0m\u001b[1;33m\u001b[0m\u001b[0m\n\u001b[0m\u001b[0;32m      6\u001b[0m     \u001b[0mprint\u001b[0m\u001b[1;33m(\u001b[0m\u001b[1;34m\"Mensaje enviado\"\u001b[0m\u001b[1;33m)\u001b[0m\u001b[1;33m\u001b[0m\u001b[1;33m\u001b[0m\u001b[0m\n",
      "\u001b[1;31mAttributeError\u001b[0m: 'str' object has no attribute 'as_String'"
     ]
    }
   ],
   "source": [
    "with smtplib.SMTP_SSL(\"smtp.gmail.com\", 465, context=context) as server:\n",
    "    server.login(username, password)\n",
    "    print(\"Inicio Sesión\")\n",
    "    mensaje = input(\"Ingrese el mensaje: \")\n",
    "    server.sendmail(username, destinatario, mensaje, mensaje.as_string())\n",
    "    print(\"Mensaje enviado\")"
   ]
  },
  {
   "cell_type": "code",
   "execution_count": null,
   "id": "1b8a0cf5",
   "metadata": {},
   "outputs": [],
   "source": []
  }
 ],
 "metadata": {
  "kernelspec": {
   "display_name": "Python 3 (ipykernel)",
   "language": "python",
   "name": "python3"
  },
  "language_info": {
   "codemirror_mode": {
    "name": "ipython",
    "version": 3
   },
   "file_extension": ".py",
   "mimetype": "text/x-python",
   "name": "python",
   "nbconvert_exporter": "python",
   "pygments_lexer": "ipython3",
   "version": "3.9.7"
  }
 },
 "nbformat": 4,
 "nbformat_minor": 5
}
