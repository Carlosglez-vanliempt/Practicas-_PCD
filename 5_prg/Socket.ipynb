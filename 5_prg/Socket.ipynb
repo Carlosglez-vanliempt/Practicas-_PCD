{
 "cells": [
  {
   "cell_type": "code",
   "execution_count": 7,
   "id": "d1454d3f-919f-451c-9642-f161bce7d96a",
   "metadata": {},
   "outputs": [],
   "source": [
    "import socket as sc"
   ]
  },
  {
   "cell_type": "code",
   "execution_count": 11,
   "id": "2570904f-c048-4734-83c3-d6a84448691f",
   "metadata": {},
   "outputs": [],
   "source": [
    "socket_=sc.socket()"
   ]
  },
  {
   "cell_type": "code",
   "execution_count": 13,
   "id": "8fb64215-9c3b-454b-8b23-593c76cdb6ec",
   "metadata": {},
   "outputs": [
    {
     "data": {
      "text/plain": [
       "380"
      ]
     },
     "execution_count": 13,
     "metadata": {},
     "output_type": "execute_result"
    }
   ],
   "source": [
    "socket_.fileno()"
   ]
  },
  {
   "cell_type": "code",
   "execution_count": null,
   "id": "519b34ba-64a6-4b08-a72c-75b9b286eef8",
   "metadata": {},
   "outputs": [],
   "source": []
  }
 ],
 "metadata": {
  "kernelspec": {
   "display_name": "Python 3",
   "language": "python",
   "name": "python3"
  },
  "language_info": {
   "codemirror_mode": {
    "name": "ipython",
    "version": 3
   },
   "file_extension": ".py",
   "mimetype": "text/x-python",
   "name": "python",
   "nbconvert_exporter": "python",
   "pygments_lexer": "ipython3",
   "version": "3.8.8"
  }
 },
 "nbformat": 4,
 "nbformat_minor": 5
}
