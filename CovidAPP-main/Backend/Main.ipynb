{
 "cells": [
  {
   "cell_type": "code",
   "execution_count": null,
   "id": "58639ec6-0823-44b6-947c-9b730d5795ba",
   "metadata": {},
   "outputs": [],
   "source": [
    "pip install qrcode"
   ]
  },
  {
   "cell_type": "code",
   "execution_count": null,
   "id": "0e748227-21f3-42a5-8401-b3b322607b7f",
   "metadata": {},
   "outputs": [],
   "source": [
    "pip install cbor2"
   ]
  },
  {
   "cell_type": "code",
   "execution_count": null,
   "id": "c267db66-e534-461b-9a5d-c42a2765f2f2",
   "metadata": {},
   "outputs": [],
   "source": [
    "pip install opencv_python"
   ]
  },
  {
   "cell_type": "code",
   "execution_count": null,
   "id": "3d3bd57d-b039-44a8-86cd-284086b56954",
   "metadata": {},
   "outputs": [],
   "source": [
    "pip install cbor2"
   ]
  },
  {
   "cell_type": "code",
   "execution_count": null,
   "id": "3bd4cc3b-d87e-4fd9-963c-043baf8461ba",
   "metadata": {},
   "outputs": [],
   "source": [
    "pip install base45"
   ]
  },
  {
   "cell_type": "code",
   "execution_count": null,
   "id": "d17f5d34-0e08-4131-b176-35150c3fc46e",
   "metadata": {},
   "outputs": [],
   "source": [
    "import qrcode as qr\n",
    "import cv2 \n",
    "import zlib\n",
    "import cbor2\n",
    "import pprint\n",
    "import pyrebase as py\n",
    "import threading\n",
    "import sys\n",
    "import socket\n",
    "import pickle\n",
    "import os\n",
    "import smtplib, ssl\n",
    "import getpass\n",
    "from base45 import b45decode"
   ]
  },
  {
   "cell_type": "code",
   "execution_count": null,
   "id": "e854c04b-a468-46dd-863d-02ec60212713",
   "metadata": {
    "tags": []
   },
   "outputs": [],
   "source": [
    "##firebaseconfig"
   ]
  },
  {
   "cell_type": "code",
   "execution_count": null,
   "id": "e258f376-8360-429b-90a1-e08bafb2c6e5",
   "metadata": {},
   "outputs": [],
   "source": [
    "fire = py.initialize_app(firebaseConfig)\n",
    "auth = fire.auth()\n",
    "ddbb = fire.database()"
   ]
  },
  {
   "cell_type": "markdown",
   "id": "533a2159-91cd-429f-81be-1fd72c5c3294",
   "metadata": {},
   "source": [
    "### FEATURE - QR DECODER / DATA DECODER"
   ]
  },
  {
   "cell_type": "code",
   "execution_count": null,
   "id": "f448bec0-b10f-472c-8b66-e2c95b7a7525",
   "metadata": {},
   "outputs": [],
   "source": [
    "qr_ = cv2.imread('qr_pablo.jpeg') #QR "
   ]
  },
  {
   "cell_type": "code",
   "execution_count": null,
   "id": "3afe1d69-ea58-430f-a580-59e30163d260",
   "metadata": {},
   "outputs": [],
   "source": [
    "detector = cv2.QRCodeDetector()\n",
    "text, arr, deci = detector.detectAndDecode(qr_)\n",
    "text"
   ]
  },
  {
   "cell_type": "code",
   "execution_count": null,
   "id": "352c090b-0943-4141-b81a-0949014cbcf3",
   "metadata": {},
   "outputs": [],
   "source": [
    "data = text\n",
    "## pablo qr data = \"HC1:NCFOXN%TSMAHN-HXOCLGML-P8ZVHGJ-AH5*S1ROT$SD PL*IS2VF%G*H50E6TTNNO4*J8OX4W$C2VLWLIVO5ON1: BI$H1VO61Q/ZJGYBN-PT-J5Q1SGO/ROLTQKABAQ5/974CL395J4I-B5ET42HPPEPHCRCLAFDOAC5LGN1:6G16PCNQ+MBM6P846$AU47N/5QV4IV4:/6N9R%EPL8RU9DNKM*IK5C9A.D90I/EL6KKYHIL4ODJL8FF3DE0OA0D9E2LBHHGKLO-K%FGLIA5D8MJKQJK6HMMBIE2K5OI9YI:8D7A1SV81DOEA7IB65C94JB1IGV8OQZI+5IJXI*EMN8KH5HVTA6LF*KDPUKF6IOKE/*B6XB3Z0BUJZ0KVE0G%5TW5A 6+O67N6F7EUTMNU6DFJMZG6.G3T2RM6MZPE8N23L-8J9FL85UG/R-9RH65A3TC38K*2X97UB2+.CHCJA R9CUQ31A*5O/DFXD2BB8FBCKSL5RW4043CC1\"\n",
    "## sauco qr data = \"HC1:NCFOXN%TSMAHN-HFSC41O/XMD/20MSM52VEL1WGTJPBBJRH5$JUQC0ZKLV/R2:O:ZH6I1$4JN:IN1MPK9V L9L69UEG%6ZZ1-Q6FB6-/E-$M846I.EH%6ZNMOWEJWEYYAEN932QZJDKK9%OC+G9QJPNF67J6UW6%PQNR66PPM4MP6FP8QD/9:G9%PPLTA8C9B212+P:S9HR9EB6*C2*$J+PEYMS:CSPZI$%P*$K3$OHBW24FAL86H0YQC:D9IE9WT0K3M9UVZSVV*001HW%8UE9.955B9-NT0 2$$0X4PCY0+-CVYCDEBD0HX2JR$4O1K8KE9.FMDQCY0CNNG.8M+87LPMIH-O92UQJLELV3Z/JNT28KGU*BNSG3UQ4F67%F$+NF1W7PG/UIGSU064P$6PORC.U9D2LOTT*QGTAAY7.Y7N31J4GD8VYDJ-IOJTAR4IJ9Q3+TOJUJGS0$V8*FW-HSXIL9K5CR24GB1F-BT% CX1NYURNV92$JN2E$JDJ8SC$A7E644RWUPDDWD7F%-FM404%213\"\n",
    "data = data.replace(\"HC1:\",\"\")\n",
    "z_data = b45decode(data)\n",
    "databytes = bytes(z_data)\n",
    "decompress = zlib.decompress(databytes)\n",
    "decode = cbor2.loads(decompress)\n",
    "decodedData = cbor2.loads(decode.value[2])\n",
    "pprint.pprint(decodedData)"
   ]
  },
  {
   "cell_type": "code",
   "execution_count": null,
   "id": "7bf525da-b240-41eb-800f-d578be31b5fb",
   "metadata": {},
   "outputs": [],
   "source": [
    "num_qr = ddbb.child(\"CovidApp\").get()\n",
    "lastvalorqr = 0\n",
    "for qr in num_qr.each(): ##RECORREMOS TODOS LOS QR QUE HAYA EN LA APP\n",
    "    lastvalorqr = lastvalorqr + 1\n",
    "\n",
    "ddbb.child(f'CovidApp/QR{lastvalorqr}').set(decodedData) ## QR DINAMICO"
   ]
  },
  {
   "cell_type": "markdown",
   "id": "ddfeda19-0d15-482e-82e7-a4dbf887302b",
   "metadata": {},
   "source": [
    "### FEAUTURE - FILTRAR VACCINE / CONTEO VACUNAS"
   ]
  },
  {
   "cell_type": "code",
   "execution_count": null,
   "id": "4cd57b73-cf11-4304-bd2e-0f8f4ebb812b",
   "metadata": {},
   "outputs": [],
   "source": [
    "def conteo():\n",
    "    qr_list = ddbb.child(\"CovidApp\").get()\n",
    "    moderna = 0\n",
    "    janssen = 0\n",
    "    pfizer = 0\n",
    "    astra = 0\n",
    "    \n",
    "    for qr in qr_list.each(): ##RECORREMOS TODOS LOS QR QUE HAYA EN LA APP\n",
    "        data = ddbb.child(f'CovidApp/{qr.key()}/-260/1/v/0/ma').get()\n",
    "        \n",
    "        if (data.val()) == 'ORG-100031184':\n",
    "            moderna = moderna +1\n",
    "            ddbb.child(f'CovidApp/{qr.key()}/-260/1/v/0').update({'ma':'Moderna'})\n",
    "        if (data.val()) == 'ORG-100001699':\n",
    "            astra = astra +1\n",
    "            ddbb.child(f'CovidApp/{qr.key()}/-260/1/v/0').update({'ma':'Astra Zeneca'})\n",
    "        if (data.val()) == 'ORG-100001417':\n",
    "            janssen = janssen +1\n",
    "            ddbb.child(f'CovidApp/{qr.key()}/-260/1/v/0').update({'ma':'Janssen'})\n",
    "        if (data.val()) == 'ORG-100030215':\n",
    "            pfizer = pfizer +1\n",
    "            ddbb.child(f'CovidApp/{qr.key()}/-260/1/v/0').update({'ma':'Pfizer'})\n",
    "        \n",
    "        ##validamos los que ya estan dentro del programa para tener el conteo al tope\n",
    "        if (data.val()) == 'Moderna':\n",
    "            moderna = moderna +1\n",
    "        if (data.val()) == 'Astra Zeneca':\n",
    "            astra = astra +1\n",
    "        if (data.val()) == 'Janssen':\n",
    "            janssen = janssen +1\n",
    "        if (data.val()) == 'Pfizer':\n",
    "            pfizer = pfizer +1\n",
    "      \n",
    "    ddbb.child('CovidApp/ConteoVacunas').set({'Moderna': moderna,'Pfizer': pfizer,'Astra Zeneca': astra,'Janssen':janssen})"
   ]
  },
  {
   "cell_type": "code",
   "execution_count": null,
   "id": "6db10388-1cbf-4b2a-9571-d8ee28c3b043",
   "metadata": {},
   "outputs": [],
   "source": [
    "conteo()\n",
    "ddbb.child(\"CovidApp\").get() ##Ver datos"
   ]
  },
  {
   "cell_type": "markdown",
   "id": "6b615786-e4fb-40b7-bd66-26eb30084131",
   "metadata": {},
   "source": [
    "### FEATURE - ENVIAR CORREOS"
   ]
  },
  {
   "cell_type": "code",
   "execution_count": null,
   "id": "603ff8f8-f256-4cb1-a67d-4f45f24dca20",
   "metadata": {},
   "outputs": [],
   "source": [
    "from email.mime.text import MIMEText\n",
    "from email.mime.multipart import MIMEMultipart"
   ]
  },
  {
   "cell_type": "code",
   "execution_count": null,
   "id": "a78d5e86-7702-4495-af9a-57308868e94e",
   "metadata": {},
   "outputs": [],
   "source": [
    "username = \"trabajofinalpcd2022@gmail.com\"\n",
    "password = getpass.getpass(\"Ingrese su password: \")\n",
    "destinatario = input(\"Ingrese destinatario: \")\n",
    "asunto= input(\"Ingrese el asunto: \")"
   ]
  },
  {
   "cell_type": "code",
   "execution_count": null,
   "id": "af601726-484c-46b3-ae87-73e820ba566b",
   "metadata": {},
   "outputs": [],
   "source": [
    "mensaje = MIMEMultipart(\"alternative\")\n",
    "mensaje[\"Subject\"] = asunto\n",
    "mensaje[\"From\"] = username\n",
    "mensaje[\"To\"] = destinatario"
   ]
  },
  {
   "cell_type": "code",
   "execution_count": null,
   "id": "8a1fd7da-9040-4c24-ae46-2933b2060f94",
   "metadata": {},
   "outputs": [],
   "source": [
    "html = f\"\"\"\n",
    "<html>\n",
    "<body>\n",
    "    Hola <i>{destinatario}</i><br>\n",
    "    Espero que estés <b>muy bien</b>\n",
    "</body>\n",
    "</html>\n",
    "\"\"\""
   ]
  },
  {
   "cell_type": "code",
   "execution_count": null,
   "id": "9ef39878-96ae-4049-9794-397a084cbc6b",
   "metadata": {},
   "outputs": [],
   "source": [
    "parte_html = MIMEText(html, \"html\")\n",
    "mensaje.attach(parte_html)\n",
    "context = ssl.create_default_context()"
   ]
  },
  {
   "cell_type": "code",
   "execution_count": null,
   "id": "0ed5e30b-7fb5-4d2a-87de-72331fc31021",
   "metadata": {},
   "outputs": [],
   "source": [
    "with smtplib.SMTP_SSL(\"smtp.gmail.com\", 465, context=context) as server:\n",
    "    server.login(username, password)\n",
    "    print(\"Inicio Sesión\")\n",
    "    server.sendmail(username, destinatario, mensaje.as_string())\n",
    "    print(\"Mensaje enviado\")"
   ]
  }
 ],
 "metadata": {
  "kernelspec": {
   "display_name": "Python 3",
   "language": "python",
   "name": "python3"
  },
  "language_info": {
   "codemirror_mode": {
    "name": "ipython",
    "version": 3
   },
   "file_extension": ".py",
   "mimetype": "text/x-python",
   "name": "python",
   "nbconvert_exporter": "python",
   "pygments_lexer": "ipython3",
   "version": "3.8.8"
  }
 },
 "nbformat": 4,
 "nbformat_minor": 5
}
