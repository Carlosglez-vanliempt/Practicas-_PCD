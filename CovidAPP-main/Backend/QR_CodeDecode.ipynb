{
 "cells": [
  {
   "cell_type": "markdown",
   "id": "1831b379",
   "metadata": {},
   "source": [
    "# Descodificar QR"
   ]
  },
  {
   "cell_type": "code",
   "execution_count": null,
   "id": "d18399a1",
   "metadata": {},
   "outputs": [],
   "source": [
    "pip install qrcode"
   ]
  },
  {
   "cell_type": "code",
   "execution_count": null,
   "id": "a931252e-b13e-4582-b360-bdaf987176cb",
   "metadata": {},
   "outputs": [],
   "source": [
    "pip install cbor2"
   ]
  },
  {
   "cell_type": "code",
   "execution_count": null,
   "id": "7461c977-6218-401f-87da-4eee881fa918",
   "metadata": {},
   "outputs": [],
   "source": [
    "pip install opencv_python"
   ]
  },
  {
   "cell_type": "code",
   "execution_count": null,
   "id": "890aaa35-6c7b-4194-b70d-74fe54538a3d",
   "metadata": {},
   "outputs": [],
   "source": [
    "pip install cbor2"
   ]
  },
  {
   "cell_type": "code",
   "execution_count": null,
   "id": "788d0e3b-d81b-4d73-86ba-9bac454890bf",
   "metadata": {},
   "outputs": [],
   "source": [
    "pip install base45"
   ]
  },
  {
   "cell_type": "code",
   "execution_count": 1,
   "id": "35cf0000",
   "metadata": {},
   "outputs": [],
   "source": [
    "import qrcode as qr\n",
    "import cv2 \n",
    "from base45 import b45decode\n",
    "import zlib\n",
    "import cbor2\n",
    "import  pprint\n",
    "import pyrebase as py"
   ]
  },
  {
   "cell_type": "code",
   "execution_count": 2,
   "id": "57a4b7e7-4af7-4b0f-b509-1648c452162c",
   "metadata": {},
   "outputs": [],
   "source": [
    "### FireBase Config"
   ]
  },
  {
   "cell_type": "code",
   "execution_count": 3,
   "id": "c28abda7-07dd-4e5f-98a8-e9cc55fe82d7",
   "metadata": {},
   "outputs": [],
   "source": [
    "fire = py.initialize_app(firebaseConfig)\n",
    "auth=fire.auth()\n",
    "ddbb=fire.database()"
   ]
  },
  {
   "cell_type": "code",
   "execution_count": 96,
   "id": "f10f9b2e",
   "metadata": {},
   "outputs": [],
   "source": [
    "qr_ = cv2.imread('qr_christian_covid.jpeg') #QR "
   ]
  },
  {
   "cell_type": "code",
   "execution_count": 97,
   "id": "cf0d6d17",
   "metadata": {},
   "outputs": [],
   "source": [
    "detector = cv2.QRCodeDetector()"
   ]
  },
  {
   "cell_type": "code",
   "execution_count": 98,
   "id": "41daaa25",
   "metadata": {},
   "outputs": [],
   "source": [
    "text, arr, deci = detector.detectAndDecode(qr_)"
   ]
  },
  {
   "cell_type": "code",
   "execution_count": 99,
   "id": "6de25e8d",
   "metadata": {},
   "outputs": [
    {
     "data": {
      "text/plain": [
       "'HC1:NCFOXN%TSMAHN-HFSC41O/XMD/20MSM52$IT1WGTJPBBJRH5$JUQC0.HLE%9 W2:ZH6I1$4JN:IN1MPK9V L9L69UEG%6ZZ1 /E+T62VEV EII6$DM7Y6E%61H67%EVHA0T932QZJDKK9+OC+G9QJPNF67J6QW6D9RRZM6PPM4MP6FP8QD/9:G9%PPLTA8C9B212+P:S9HR9EB6*C2*$J+PEYMS:CSPZI$%P*$K3$OHBW24FAL86H0VOCIL8-TIK*R3T3+7A.N88J4R$FBMA2 U6QS25P0QIRR97I2HOAXL92L0. KOKGTM8$M8SNCT64RR7+V4YC5/HQR%RHCR Q2:PI/E2$4JY/KQT2D4HP4HREFMSV7*8W37JKN$E7WGV /KXU2$OFMDFU5HNK78B5ZMV PN.TV/Y06ALG%IDC5 EGL+92+0AVO6ZR- A7*KB*KYQTKWT4S83U5J752MDEKUGR2::4R8I5XSZ/CHIVZLAQYOFWM%U23I4GHDZX73$JI3NSBWQ$EY:RYX7M19N8KOEJFSSSGL4WU57EO.V/3FBZQEML840$SHA4'"
      ]
     },
     "execution_count": 99,
     "metadata": {},
     "output_type": "execute_result"
    }
   ],
   "source": [
    "text"
   ]
  },
  {
   "cell_type": "code",
   "execution_count": 109,
   "id": "a34f0b49",
   "metadata": {},
   "outputs": [],
   "source": [
    "data=text"
   ]
  },
  {
   "cell_type": "code",
   "execution_count": 110,
   "id": "3e685e91",
   "metadata": {},
   "outputs": [],
   "source": [
    "data = data.replace(\"HC1:\",\"\")"
   ]
  },
  {
   "cell_type": "code",
   "execution_count": 111,
   "id": "d7dc2f28-4c4c-4bbb-a63e-364387c4c92c",
   "metadata": {},
   "outputs": [],
   "source": [
    "z_data = b45decode(data)"
   ]
  },
  {
   "cell_type": "code",
   "execution_count": 112,
   "id": "0c497d88",
   "metadata": {},
   "outputs": [],
   "source": [
    "databytes = bytes(z_data) "
   ]
  },
  {
   "cell_type": "code",
   "execution_count": 113,
   "id": "bf57bfdd-c278-449d-adcc-508c0ed24ae6",
   "metadata": {},
   "outputs": [],
   "source": [
    "decompress = zlib.decompress(databytes)"
   ]
  },
  {
   "cell_type": "code",
   "execution_count": 114,
   "id": "a3b48f48-56f9-4cf9-a6bf-3bf7691f280e",
   "metadata": {},
   "outputs": [],
   "source": [
    "decode = cbor2.loads(decompress)"
   ]
  },
  {
   "cell_type": "code",
   "execution_count": 115,
   "id": "e480f3fa-8709-4c1a-a438-d5f4c6d65ae1",
   "metadata": {},
   "outputs": [],
   "source": [
    "decodedData = cbor2.loads(decode.value[2])"
   ]
  },
  {
   "cell_type": "code",
   "execution_count": 116,
   "id": "3a33c6d2-257c-42b3-9119-f12b0cf0a0cf",
   "metadata": {},
   "outputs": [
    {
     "name": "stdout",
     "output_type": "stream",
     "text": [
      "{-260: {1: {'dob': '2002-02-15',\n",
      "            'nam': {'fn': 'FARRENY BOIXADER',\n",
      "                    'fnt': 'FARRENY<BOIXADER',\n",
      "                    'gn': 'ALVARO',\n",
      "                    'gnt': 'ALVARO'},\n",
      "            'v': [{'ci': '01ES13VD829A6AB2591A54E12267#C',\n",
      "                   'co': 'ES',\n",
      "                   'dn': 2,\n",
      "                   'dt': '2021-07-31',\n",
      "                   'is': 'Consejeria de Sanidad de la Comunidad de Madrid',\n",
      "                   'ma': 'ORG-100030215',\n",
      "                   'mp': 'EU/1/20/1528',\n",
      "                   'sd': 2,\n",
      "                   'tg': '840539006',\n",
      "                   'vp': '1119349007'}],\n",
      "            'ver': '1.3.0'}},\n",
      " 1: 'ES',\n",
      " 4: 1685181600,\n",
      " 6: 1640539073}\n"
     ]
    }
   ],
   "source": [
    "pprint.pprint(decodedData)"
   ]
  },
  {
   "cell_type": "code",
   "execution_count": 117,
   "id": "d5a109f5-da69-4e79-88e0-121dd87a55d9",
   "metadata": {},
   "outputs": [
    {
     "data": {
      "text/plain": [
       "{'-260': [None,\n",
       "  {'dob': '2002-02-15',\n",
       "   'nam': {'fn': 'FARRENY BOIXADER',\n",
       "    'fnt': 'FARRENY<BOIXADER',\n",
       "    'gn': 'ALVARO',\n",
       "    'gnt': 'ALVARO'},\n",
       "   'v': [{'ci': '01ES13VD829A6AB2591A54E12267#C',\n",
       "     'co': 'ES',\n",
       "     'dn': 2,\n",
       "     'dt': '2021-07-31',\n",
       "     'is': 'Consejeria de Sanidad de la Comunidad de Madrid',\n",
       "     'ma': 'ORG-100030215',\n",
       "     'mp': 'EU/1/20/1528',\n",
       "     'sd': 2,\n",
       "     'tg': '840539006',\n",
       "     'vp': '1119349007'}],\n",
       "   'ver': '1.3.0'}],\n",
       " '1': 'ES',\n",
       " '4': 1685181600,\n",
       " '6': 1640539073}"
      ]
     },
     "execution_count": 117,
     "metadata": {},
     "output_type": "execute_result"
    }
   ],
   "source": [
    "ddbb.child('CovidApp/QR3').set(decodedData)"
   ]
  },
  {
   "cell_type": "code",
   "execution_count": 60,
   "id": "2e78beca-e7b2-4505-ae0d-0a7320b624d4",
   "metadata": {},
   "outputs": [
    {
     "data": {
      "text/plain": [
       "{'ma': 'Pzifer'}"
      ]
     },
     "execution_count": 60,
     "metadata": {},
     "output_type": "execute_result"
    }
   ],
   "source": [
    "ddbb.child('CovidApp/QR2/-260/1/v/0').update({'ma':'Pzifer'})"
   ]
  },
  {
   "cell_type": "code",
   "execution_count": 67,
   "id": "932aa2a6-27df-4cee-b7d7-0a48040774c5",
   "metadata": {},
   "outputs": [],
   "source": [
    "data=ddbb.child('CovidApp/QR2/-260/1/v/0/ma').get()"
   ]
  },
  {
   "cell_type": "code",
   "execution_count": 68,
   "id": "73068735-aec6-440d-b21e-0920e70c56be",
   "metadata": {},
   "outputs": [
    {
     "data": {
      "text/plain": [
       "'Pzifer'"
      ]
     },
     "execution_count": 68,
     "metadata": {},
     "output_type": "execute_result"
    }
   ],
   "source": [
    "data.val()"
   ]
  },
  {
   "cell_type": "code",
   "execution_count": null,
   "id": "fb2fe982-30e7-402a-ab2e-b27436a90367",
   "metadata": {},
   "outputs": [],
   "source": []
  }
 ],
 "metadata": {
  "kernelspec": {
   "display_name": "Python 3 (ipykernel)",
   "language": "python",
   "name": "python3"
  },
  "language_info": {
   "codemirror_mode": {
    "name": "ipython",
    "version": 3
   },
   "file_extension": ".py",
   "mimetype": "text/x-python",
   "name": "python",
   "nbconvert_exporter": "python",
   "pygments_lexer": "ipython3",
   "version": "3.9.7"
  }
 },
 "nbformat": 4,
 "nbformat_minor": 5
}
