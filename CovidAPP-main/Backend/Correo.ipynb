{
 "cells": [
  {
   "cell_type": "code",
   "execution_count": 1,
   "id": "c95c3493",
   "metadata": {},
   "outputs": [],
   "source": [
    "import smtplib, ssl"
   ]
  },
  {
   "cell_type": "code",
   "execution_count": 2,
   "id": "4b3217db",
   "metadata": {},
   "outputs": [],
   "source": [
    "import getpass"
   ]
  },
  {
   "cell_type": "code",
   "execution_count": 3,
   "id": "38c47bd5",
   "metadata": {},
   "outputs": [],
   "source": [
    "from email.mime.text import MIMEText\n",
    "from email.mime.multipart import MIMEMultipart"
   ]
  },
  {
   "cell_type": "code",
   "execution_count": 4,
   "id": "c96d1979",
   "metadata": {},
   "outputs": [
    {
     "name": "stdout",
     "output_type": "stream",
     "text": [
      "Ingrese su password: ········\n",
      "Ingrese destinatario: carlos.gvl.contact@gmail.com\n",
      "Ingrese el asunto: Prueba de correo\n"
     ]
    }
   ],
   "source": [
    "username = \"trabajofinalpcd2022@gmail.com\"\n",
    "password = getpass.getpass(\"Ingrese su password: \")\n",
    "destinatario = input(\"Ingrese destinatario: \")\n",
    "asunto= input(\"Ingrese el asunto: \")"
   ]
  },
  {
   "cell_type": "code",
   "execution_count": 5,
   "id": "b3bec6b5",
   "metadata": {},
   "outputs": [],
   "source": [
    "mensaje = MIMEMultipart(\"alternative\")\n",
    "mensaje[\"Subject\"] = asunto\n",
    "mensaje[\"From\"] = username\n",
    "mensaje[\"To\"] = destinatario"
   ]
  },
  {
   "cell_type": "code",
   "execution_count": 6,
   "id": "14d06204",
   "metadata": {},
   "outputs": [],
   "source": [
    "html = f\"\"\"\n",
    "<html>\n",
    "<body>\n",
    "    Hola <i>{destinatario}</i><br>\n",
    "    Espero que estés <b>muy bien</b>\n",
    "</body>\n",
    "</html>\n",
    "\"\"\""
   ]
  },
  {
   "cell_type": "code",
   "execution_count": 7,
   "id": "005d4cfe",
   "metadata": {},
   "outputs": [],
   "source": [
    "parte_html = MIMEText(html, \"html\")\n",
    "mensaje.attach(parte_html)"
   ]
  },
  {
   "cell_type": "code",
   "execution_count": 8,
   "id": "c1c6ad96",
   "metadata": {},
   "outputs": [],
   "source": [
    "context = ssl.create_default_context()"
   ]
  },
  {
   "cell_type": "code",
   "execution_count": 9,
   "id": "e41c89d5",
   "metadata": {},
   "outputs": [
    {
     "name": "stdout",
     "output_type": "stream",
     "text": [
      "Inicio Sesión\n",
      "Mensaje enviado\n"
     ]
    }
   ],
   "source": [
    "with smtplib.SMTP_SSL(\"smtp.gmail.com\", 465, context=context) as server:\n",
    "    server.login(username, password)\n",
    "    print(\"Inicio Sesión\")\n",
    "    server.sendmail(username, destinatario, mensaje.as_string())\n",
    "    print(\"Mensaje enviado\")"
   ]
  },
  {
   "cell_type": "code",
   "execution_count": null,
   "id": "6e6f4ef9",
   "metadata": {},
   "outputs": [],
   "source": []
  }
 ],
 "metadata": {
  "kernelspec": {
   "display_name": "Python 3 (ipykernel)",
   "language": "python",
   "name": "python3"
  },
  "language_info": {
   "codemirror_mode": {
    "name": "ipython",
    "version": 3
   },
   "file_extension": ".py",
   "mimetype": "text/x-python",
   "name": "python",
   "nbconvert_exporter": "python",
   "pygments_lexer": "ipython3",
   "version": "3.9.7"
  }
 },
 "nbformat": 4,
 "nbformat_minor": 5
}
