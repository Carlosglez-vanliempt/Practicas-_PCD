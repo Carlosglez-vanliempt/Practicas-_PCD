{
 "cells": [
  {
   "cell_type": "markdown",
   "id": "910e800c-851b-4ad6-b1af-af95d3ddf382",
   "metadata": {},
   "source": [
    "## Funcion que haga el conteo de numero de tipo vacunas"
   ]
  },
  {
   "cell_type": "code",
   "execution_count": 6,
   "id": "2bcd18f1-f345-405c-a486-35c976724e45",
   "metadata": {},
   "outputs": [],
   "source": [
    "import pyrebase as py\n",
    "import threading\n",
    "import sys\n",
    "import socket\n",
    "import pickle\n",
    "import os"
   ]
  },
  {
   "cell_type": "code",
   "execution_count": 30,
   "id": "bb83d1fb-ef45-4514-85da-8e89f77ebc58",
   "metadata": {},
   "outputs": [],
   "source": [
    "##AQUI VA FIREBASE CONFIG"
   ]
  },
  {
   "cell_type": "code",
   "execution_count": 11,
   "id": "9fa0d64a-f70a-4845-a07d-e17a15699c5e",
   "metadata": {},
   "outputs": [],
   "source": [
    "firebase = py.initialize_app(firebaseConfig)"
   ]
  },
  {
   "cell_type": "code",
   "execution_count": 12,
   "id": "f27389e5-2bfa-4727-a22d-02af6f32678f",
   "metadata": {},
   "outputs": [],
   "source": [
    "db = firebase.database()"
   ]
  },
  {
   "cell_type": "code",
   "execution_count": 28,
   "id": "77ac7cbe-92bb-403a-98dd-4587fde61128",
   "metadata": {
    "tags": []
   },
   "outputs": [],
   "source": [
    "def conteo():\n",
    "    qr_list = db.child(\"CovidApp\").get()\n",
    "    moderna = 0\n",
    "    janssen = 0\n",
    "    pfizer = 0\n",
    "    astra = 0\n",
    "    \n",
    "    for qr in qr_list.each(): ##RECORREMOS TODOS LOS QR QUE HAYA EN LA APP\n",
    "        print (f'\\nQR : {qr.key()}\\n')\n",
    "        print (qr.val())\n",
    "        data = db.child(f'CovidApp/{qr.key()}/-260/1/v/0/ma').get()\n",
    "        \n",
    "        if (data.val()) == 'ORG-100031184':\n",
    "            moderna = moderna +1\n",
    "            db.child(f'CovidApp/{qr.key()}/-260/1/v/0').update({'ma':'Moderna'})\n",
    "        if (data.val()) == 'ORG-100001699':\n",
    "            astra = astra +1\n",
    "            db.child(f'CovidApp/{qr.key()}/-260/1/v/0').update({'ma':'Astra Zeneca'})\n",
    "        if (data.val()) == 'ORG-100001417':\n",
    "            janssen = janssen +1\n",
    "            db.child(f'CovidApp/{qr.key()}/-260/1/v/0').update({'ma':'Janssen'})\n",
    "        if (data.val()) == 'ORG-100030215':\n",
    "            pfizer = pfizer +1\n",
    "            db.child(f'CovidApp/{qr.key()}/-260/1/v/0').update({'ma':'Pfizer'})\n",
    "        \n",
    "        ##validamos los que ya estan dentro del programa para tener el conteo al tope\n",
    "        if (data.val()) == 'Moderna':\n",
    "            moderna = moderna +1\n",
    "        if (data.val()) == 'Astra Zeneca':\n",
    "            astra = astra +1\n",
    "        if (data.val()) == 'Janssen':\n",
    "            janssen = janssen +1\n",
    "        if (data.val()) == 'Pfizer':\n",
    "            pfizer = pfizer +1\n",
    "      \n",
    "    db.child('CovidApp/ConteoVacunas').set({'Moderna': moderna,'Pfizer': pfizer,'Astra Zeneca': astra,'Janssen':janssen})"
   ]
  },
  {
   "cell_type": "code",
   "execution_count": 29,
   "id": "f4e7f5f0-b308-4463-b304-2d0d71ba9c9a",
   "metadata": {},
   "outputs": [
    {
     "name": "stdout",
     "output_type": "stream",
     "text": [
      "\n",
      "QR : ConteoVacunas\n",
      "\n",
      "{'Astra Zeneca': 0, 'Janssen': 0, 'Moderna': 2, 'Pfizer': 1}\n",
      "\n",
      "QR : QR1\n",
      "\n",
      "{'-260': [None, {'dob': '1977-05-05', 'nam': {'fn': 'SUCUZHANAY AREVALO', 'fnt': 'SUCUZHANAY<AREVALO', 'gn': 'CHRISTIAN VLADIMIR', 'gnt': 'CHRISTIAN<VLADIMIR'}, 'v': [{'ci': '01ES13V3DA79F5D2289E7C221EFB#1', 'co': 'ES', 'dn': 1, 'dt': '2021-07-18', 'is': 'Consejeria de Sanidad de la Comunidad de Madrid', 'ma': 'Moderna', 'mp': 'EU/1/20/1507', 'sd': 1, 'tg': '840539006', 'vp': '1119349007'}], 'ver': '1.3.0'}], '1': 'ES', '4': 1685181600, '6': 1630088104}\n",
      "\n",
      "QR : QR2\n",
      "\n",
      "{'-260': [None, {'dob': '2002-06-28', 'nam': {'fn': 'GONZALEZ VAN LIEMPT', 'fnt': 'GONZALEZ<VAN<LIEMPT', 'gn': 'CARLOS', 'gnt': 'CARLOS'}, 'v': [{'ci': '01ES13V26184151D8307260BFECC#B', 'co': 'ES', 'dn': 2, 'dt': '2021-09-15', 'is': 'Consejeria de Sanidad de la Comunidad de Madrid', 'ma': 'Moderna', 'mp': 'EU/1/20/1507', 'sd': 2, 'tg': '840539006', 'vp': '1119349007'}], 'ver': '1.3.0'}], '1': 'ES', '4': 1685181600, '6': 1640250232}\n",
      "\n",
      "QR : QR3\n",
      "\n",
      "{'-260': [None, {'dob': '2002-02-15', 'nam': {'fn': 'FARRENY BOIXADER', 'fnt': 'FARRENY<BOIXADER', 'gn': 'ALVARO', 'gnt': 'ALVARO'}, 'v': [{'ci': '01ES13VD829A6AB2591A54E12267#C', 'co': 'ES', 'dn': 2, 'dt': '2021-07-31', 'is': 'Consejeria de Sanidad de la Comunidad de Madrid', 'ma': 'Pfizer', 'mp': 'EU/1/20/1528', 'sd': 2, 'tg': '840539006', 'vp': '1119349007'}], 'ver': '1.3.0'}], '1': 'ES', '4': 1685181600, '6': 1640539073}\n"
     ]
    }
   ],
   "source": [
    "conteo()"
   ]
  },
  {
   "cell_type": "code",
   "execution_count": null,
   "id": "dbb5c928-7e3e-4e1b-946d-3480185493b4",
   "metadata": {},
   "outputs": [],
   "source": []
  }
 ],
 "metadata": {
  "kernelspec": {
   "display_name": "Python 3",
   "language": "python",
   "name": "python3"
  },
  "language_info": {
   "codemirror_mode": {
    "name": "ipython",
    "version": 3
   },
   "file_extension": ".py",
   "mimetype": "text/x-python",
   "name": "python",
   "nbconvert_exporter": "python",
   "pygments_lexer": "ipython3",
   "version": "3.8.8"
  }
 },
 "nbformat": 4,
 "nbformat_minor": 5
}
