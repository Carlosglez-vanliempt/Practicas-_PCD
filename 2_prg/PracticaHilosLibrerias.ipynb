{
 "cells": [
  {
   "cell_type": "markdown",
   "id": "ab2cd41b-e819-4773-8173-644cb043bc48",
   "metadata": {},
   "source": [
    "#SECOND PYTHON PROGRAM"
   ]
  },
  {
   "cell_type": "markdown",
   "id": "f1e11c6e-05d0-43b4-80cf-d8ec9314767d",
   "metadata": {},
   "source": [
    "1. Cuantos Cores tiene mi CPU?"
   ]
  },
  {
   "cell_type": "code",
   "execution_count": 1,
   "id": "6fba0e49-7bc7-4b09-932f-a405c03898df",
   "metadata": {},
   "outputs": [],
   "source": [
    "import os"
   ]
  },
  {
   "cell_type": "code",
   "execution_count": 4,
   "id": "59e07478-43cd-4ce5-b770-894c174e9032",
   "metadata": {},
   "outputs": [
    {
     "name": "stdout",
     "output_type": "stream",
     "text": [
      "8\n"
     ]
    }
   ],
   "source": [
    "print(os.cpu_count())"
   ]
  },
  {
   "cell_type": "markdown",
   "id": "6465550d-f44f-4586-b5c2-bfde72fbcd49",
   "metadata": {},
   "source": [
    "2. Cuantos Cores físicos tiene mi CPU?"
   ]
  },
  {
   "cell_type": "code",
   "execution_count": 17,
   "id": "35bafe15-e4ed-4bb8-8abf-3a2cc2dd3e54",
   "metadata": {},
   "outputs": [
    {
     "name": "stdout",
     "output_type": "stream",
     "text": [
      "Mi PC tiene 4.0 cores físicos\n"
     ]
    }
   ],
   "source": [
    "print(\"Mi PC tiene \" + (str(os.cpu_count()/2)) + \" cores físicos\")"
   ]
  },
  {
   "cell_type": "markdown",
   "id": "848db6d5-0ad7-4228-bbb2-6d8efafe149e",
   "metadata": {},
   "source": [
    "3. Cuantos Cores lógicos tiene mi CPU?"
   ]
  },
  {
   "cell_type": "code",
   "execution_count": 13,
   "id": "2219fb96-671d-4ab1-ae81-d8d12f995da4",
   "metadata": {},
   "outputs": [
    {
     "name": "stdout",
     "output_type": "stream",
     "text": [
      "Mi PC tiene 8 cores lógicos.\n"
     ]
    }
   ],
   "source": [
    "print(\"Mi PC tiene \" + str(os.cpu_count()) + \" cores lógicos.\")"
   ]
  },
  {
   "cell_type": "markdown",
   "id": "cd3eb846-6698-4aea-833a-bc61fe29d40b",
   "metadata": {},
   "source": [
    "4. Cree una funcion con el objeto de mantener su cpu activa indefinidamente ( que no haga nada la funcion)"
   ]
  },
  {
   "cell_type": "code",
   "execution_count": 19,
   "id": "556f1bf5-7216-46f5-80bf-64bfce097baf",
   "metadata": {},
   "outputs": [],
   "source": [
    "def hldCPUactive():\n",
    "    while True:\n",
    "        pass #pasa hasta que la condición varíe"
   ]
  },
  {
   "cell_type": "markdown",
   "id": "29261889-29ac-472c-b5ed-ffab7af54cb4",
   "metadata": {},
   "source": [
    "5. Qué versión de Python tengo instalada?"
   ]
  },
  {
   "cell_type": "code",
   "execution_count": 20,
   "id": "70c770c4-e250-40d0-873c-ab569c199707",
   "metadata": {
    "tags": []
   },
   "outputs": [],
   "source": [
    "import platform as alias"
   ]
  },
  {
   "cell_type": "code",
   "execution_count": 25,
   "id": "83627cba-0450-4551-bd9f-9f5762a431ad",
   "metadata": {},
   "outputs": [
    {
     "name": "stdout",
     "output_type": "stream",
     "text": [
      "Mi versión de Python es la 3.8.8.\n"
     ]
    }
   ],
   "source": [
    "print(\"Mi versión de Python es la \"+ str(alias.python_version()) + \".\")"
   ]
  },
  {
   "cell_type": "code",
   "execution_count": 27,
   "id": "19652ca0-9ee5-423c-9906-bfb6c8390419",
   "metadata": {},
   "outputs": [
    {
     "name": "stdout",
     "output_type": "stream",
     "text": [
      "El usuario que está logueado a mi PC es ''thena''.\n"
     ]
    }
   ],
   "source": [
    "print(\"El usuario que está logueado a mi PC es ''\" + os.getlogin() + \"''.\")"
   ]
  },
  {
   "cell_type": "markdown",
   "id": "f50e8d02-e637-40c3-bc38-2e1d5c424aaa",
   "metadata": {},
   "source": [
    "6. El bus de su máquina es de 32 a 64?"
   ]
  },
  {
   "cell_type": "code",
   "execution_count": 30,
   "id": "e6a5c6b1-d0a5-411d-95dd-bb149c7299a3",
   "metadata": {},
   "outputs": [
    {
     "name": "stdout",
     "output_type": "stream",
     "text": [
      "El bus de mi máquina es de ('64bit', 'WindowsPE')\n"
     ]
    }
   ],
   "source": [
    "print(\"El bus de mi máquina es de \" + str(alias.architecture()))"
   ]
  },
  {
   "cell_type": "markdown",
   "id": "7706a5bd-09d1-49bf-9620-cb4b758d7008",
   "metadata": {
    "tags": []
   },
   "source": [
    "7. Cree una función que imprima del 1 al 10"
   ]
  },
  {
   "cell_type": "code",
   "execution_count": 34,
   "id": "47a555d8-3410-4678-a42a-974385afd4a7",
   "metadata": {},
   "outputs": [],
   "source": [
    "def countUntil10():\n",
    "    for i in range(10):\n",
    "        print(i)"
   ]
  },
  {
   "cell_type": "markdown",
   "id": "6e93b9ef-0910-445d-a0b8-a6e1ec5c91e2",
   "metadata": {},
   "source": [
    "8. Ejecute concurrentemente 20 veces la función antes mencionada"
   ]
  },
  {
   "cell_type": "code",
   "execution_count": 35,
   "id": "643bc9ad-3301-4e43-b955-7da3e8f72bfe",
   "metadata": {},
   "outputs": [],
   "source": [
    "import threading as th"
   ]
  },
  {
   "cell_type": "code",
   "execution_count": 37,
   "id": "6c23a4b1-07bc-4b0c-9a06-a3c72a9aee7a",
   "metadata": {},
   "outputs": [
    {
     "name": "stdout",
     "output_type": "stream",
     "text": [
      "0\n",
      "1\n",
      "2\n",
      "3\n",
      "4\n",
      "5\n",
      "6\n",
      "7\n",
      "8\n",
      "9\n"
     ]
    }
   ],
   "source": [
    "th.Thread(target=countUntil10()).start()"
   ]
  },
  {
   "cell_type": "code",
   "execution_count": null,
   "id": "b6f5eb17-16a6-4ed6-971e-ea8537d70219",
   "metadata": {},
   "outputs": [],
   "source": [
    "for j in range(20):\n",
    "    th.Thread(target=countUntil10()).start()"
   ]
  },
  {
   "cell_type": "markdown",
   "id": "5f0eef55-dec2-49cc-a09f-cc80c6c30463",
   "metadata": {},
   "source": [
    "9. Cuántos hilos activos tengo?"
   ]
  },
  {
   "cell_type": "code",
   "execution_count": 41,
   "id": "04402ac1-bbff-4e02-b2dc-0a2815408597",
   "metadata": {},
   "outputs": [
    {
     "name": "stdout",
     "output_type": "stream",
     "text": [
      "Mi PC actualmente tiene 5 hilos activos.\n"
     ]
    }
   ],
   "source": [
    "print(\"Mi PC actualmente tiene \" + str(th.active_count()) + \" hilos activos.\")"
   ]
  },
  {
   "cell_type": "markdown",
   "id": "0cd99c6c-a0d5-4d40-98ea-559c1a1a12bc",
   "metadata": {},
   "source": [
    "10. Imprima sus DNI's (identificadores) y mátelos"
   ]
  },
  {
   "cell_type": "code",
   "execution_count": 45,
   "id": "14c08c5b-4815-4f7c-969f-832faaa68287",
   "metadata": {},
   "outputs": [
    {
     "name": "stdout",
     "output_type": "stream",
     "text": [
      "Estos son los hilos que actualmente están corriendo en mi PC: [<_MainThread(MainThread, started 4524)>, <Thread(Thread-4, started daemon 13428)>, <Heartbeat(Thread-5, started daemon 1608)>, <HistorySavingThread(IPythonHistorySavingThread, started 19688)>, <ParentPollerWindows(Thread-3, started daemon 4772)>]\n"
     ]
    }
   ],
   "source": [
    "print(\"Estos son los hilos que actualmente están corriendo en mi PC: \" + str(th.enumerate()))"
   ]
  },
  {
   "cell_type": "code",
   "execution_count": 1,
   "id": "585aa172-7bd3-444c-9061-bb9d22af4388",
   "metadata": {},
   "outputs": [],
   "source": [
    "from IPython import display"
   ]
  },
  {
   "cell_type": "code",
   "execution_count": 2,
   "id": "0c0e96c9-91fe-48bb-8a87-55bd0970adc1",
   "metadata": {},
   "outputs": [
    {
     "data": {
      "image/png": "[encoded data removed]",
      "text/plain": [
       "<IPython.core.display.Image object>"
      ]
     },
     "execution_count": 2,
     "metadata": {},
     "output_type": "execute_result"
    }
   ],
   "source": [
    "display.Image(\"nucleos.PNG\")"
   ]
  },
  {
   "cell_type": "code",
   "execution_count": null,
   "id": "a10c5a24-63f1-4873-8c0f-fa2407f48573",
   "metadata": {},
   "outputs": [],
   "source": []
  }
 ],
 "metadata": {
  "kernelspec": {
   "display_name": "Python 3 (ipykernel)",
   "language": "python",
   "name": "python3"
  },
  "language_info": {
   "codemirror_mode": {
    "name": "ipython",
    "version": 3
   },
   "file_extension": ".py",
   "mimetype": "text/x-python",
   "name": "python",
   "nbconvert_exporter": "python",
   "pygments_lexer": "ipython3",
   "version": "3.9.7"
  }
 },
 "nbformat": 4,
 "nbformat_minor": 5
}
