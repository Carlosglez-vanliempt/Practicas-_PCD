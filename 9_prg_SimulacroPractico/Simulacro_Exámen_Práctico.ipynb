{
 "cells": [
  {
   "cell_type": "markdown",
   "id": "5b17bcac-1852-4a38-8e21-dbdcaacfb5ea",
   "metadata": {},
   "source": [
    "## Simulacro Práctico de Exámen"
   ]
  },
  {
   "cell_type": "code",
   "execution_count": 12,
   "id": "7eedb1f3-9456-438f-967b-7c133b7ada19",
   "metadata": {},
   "outputs": [],
   "source": [
    "import random"
   ]
  },
  {
   "cell_type": "code",
   "execution_count": 5,
   "id": "e17e4431-d924-4e2e-a53d-44240acdc94d",
   "metadata": {},
   "outputs": [],
   "source": [
    "premiados =[random.randrange(21_000_000,22_999_999) for _ in range(100)]"
   ]
  },
  {
   "cell_type": "code",
   "execution_count": 3,
   "id": "71d1fd0d-c26e-4277-aab2-da9db582dcf2",
   "metadata": {},
   "outputs": [
    {
     "data": {
      "text/plain": [
       "list"
      ]
     },
     "execution_count": 3,
     "metadata": {},
     "output_type": "execute_result"
    }
   ],
   "source": [
    "type(premiados)"
   ]
  },
  {
   "cell_type": "markdown",
   "id": "2b46ff7d-5043-409f-8c8b-87922abf2ebc",
   "metadata": {},
   "source": [
    "### Genera una matrix de n filas y n columnas a elección del usuario, No uses numpay"
   ]
  },
  {
   "cell_type": "code",
   "execution_count": 22,
   "id": "9e9274e9-70b6-47ce-8b59-eb75ac3b7cba",
   "metadata": {},
   "outputs": [
    {
     "name": "stdin",
     "output_type": "stream",
     "text": [
      "Dime cuantas filas quieres que tenga su matriz: 40\n",
      "Dime cuantas columnas quieres que tenga su matriz: 40\n"
     ]
    }
   ],
   "source": [
    "filas=(int(input(\"Dime cuantas filas quieres que tenga su matriz:\")))\n",
    "columnas=(int(input(\"Dime cuantas columnas quieres que tenga su matriz:\")))\n"
   ]
  },
  {
   "cell_type": "code",
   "execution_count": 26,
   "id": "3792e8ac-9575-4a69-b2aa-0c1dce02a0b5",
   "metadata": {},
   "outputs": [],
   "source": [
    "a1 = [[j for j in range(columnas)] for i in range(filas)]"
   ]
  },
  {
   "cell_type": "markdown",
   "id": "3234b439-463f-4731-a68d-5ea4684f3d15",
   "metadata": {},
   "source": [
    "### Genera una lista con todos los Dni's de toda la población española ( 47 millones )"
   ]
  },
  {
   "cell_type": "code",
   "execution_count": null,
   "id": "6270d4c7-6f7a-4e03-803e-b5c4fa163cd4",
   "metadata": {},
   "outputs": [],
   "source": []
  }
 ],
 "metadata": {
  "kernelspec": {
   "display_name": "Python 3",
   "language": "python",
   "name": "python3"
  },
  "language_info": {
   "codemirror_mode": {
    "name": "ipython",
    "version": 3
   },
   "file_extension": ".py",
   "mimetype": "text/x-python",
   "name": "python",
   "nbconvert_exporter": "python",
   "pygments_lexer": "ipython3",
   "version": "3.8.8"
  }
 },
 "nbformat": 4,
 "nbformat_minor": 5
}
