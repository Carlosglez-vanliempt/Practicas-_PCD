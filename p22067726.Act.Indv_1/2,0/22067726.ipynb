{
 "cells": [
  {
   "cell_type": "markdown",
   "id": "e9db9c1b-3a8c-4b16-9384-a64d05e0cbe2",
   "metadata": {},
   "source": [
    "# ACTIVIDAD INDIVIDUAL Álvaro Farreny Boixader"
   ]
  },
  {
   "cell_type": "code",
   "execution_count": 1,
   "id": "c86c9b03-06fa-4c1c-a637-d6c0c6bc14b5",
   "metadata": {},
   "outputs": [],
   "source": [
    "from IPython import display"
   ]
  },
  {
   "cell_type": "code",
   "execution_count": 3,
   "id": "ea4d23a1-0a91-4141-b512-bb455d11882c",
   "metadata": {},
   "outputs": [
    {
     "data": {
      "image/png": "[encoded data removed]",
      "text/plain": [
       "<IPython.core.display.Image object>"
      ]
     },
     "execution_count": 3,
     "metadata": {},
     "output_type": "execute_result"
    }
   ],
   "source": [
    "display.Image(\"logo-uem.PNG\")"
   ]
  },
  {
   "cell_type": "markdown",
   "id": "bf9d31b5-a013-45cb-afd7-ea4fc59d2021",
   "metadata": {},
   "source": [
    "## Apartado A --> INPUT DE USUARIO"
   ]
  },
  {
   "cell_type": "markdown",
   "id": "aa6100f6-1f68-40c7-aa4a-e5bd8fb3bf17",
   "metadata": {},
   "source": [
    "Cliente.py"
   ]
  },
  {
   "cell_type": "code",
   "execution_count": null,
   "id": "20653933-5636-464d-ad2b-2fb4cff54970",
   "metadata": {},
   "outputs": [],
   "source": [
    "import threading\n",
    "import sys\n",
    "import socket\n",
    "import pickle\n",
    "import os\n",
    "\n",
    "class Cliente():\n",
    "\n",
    "\thost_ = input(\"Escribe la ip a donde desea conectarse: \")\n",
    "\tpuerto_ = int(input(\"Escriba el puerto con el que desea comunicarse: \"))\n",
    "    \n",
    "\tdef __init__(self, host=host_ , port=puerto_):\n",
    "\t\tself.sock = socket.socket()\n",
    "\t\tself.sock.connect((str(host), int(port)))\n",
    "\t\thilo_recv_mensaje = threading.Thread(target=self.recibir)\n",
    "\t\thilo_recv_mensaje.daemon = True\n",
    "\t\thilo_recv_mensaje.start()\n",
    "\t\tprint('Hilo con PID',os.getpid())\n",
    "\t\tprint('Hilos activos', threading.active_count())\n",
    "\n",
    "\t\twhile True:\n",
    "\t\t\tmsg = input('\\nEscriba texto ? ** Enviar = ENTER ** Abandonar Chat = Q \\n')\n",
    "\t\t\tif msg != 'Q' :\n",
    "\t\t\t\tself.enviar(msg)\n",
    "\t\t\telse:\n",
    "\t\t\t\tprint(\" **** TALOGOOO  ****\")\n",
    "\t\t\t\tself.sock.close()\n",
    "\t\t\t\tsys.exit()\n",
    "\n",
    "\tdef recibir(self):\n",
    "\t\twhile True:\n",
    "\t\t\ttry:\n",
    "\t\t\t\tdata = self.sock.recv(32)\n",
    "\t\t\t\tif data:\n",
    "\t\t\t\t\tprint(pickle.loads(data))\n",
    "\t\t\texcept:\n",
    "\t\t\t\tpass\n",
    "\n",
    "\tdef enviar(self, msg):\n",
    "\t\tself.sock.send(pickle.dumps(msg))\n",
    "\n",
    "c = Cliente()"
   ]
  },
  {
   "cell_type": "markdown",
   "id": "16611499-2760-4869-92a7-74812cb3900e",
   "metadata": {},
   "source": [
    "### Al iniciar el programa preguntamos al usuario por el host y el puerto al usuario. El usuario introduce su ip y su puerto y el programa les conecta al servidor si dicha ip y dicho puerto son los correctos."
   ]
  },
  {
   "cell_type": "code",
   "execution_count": null,
   "id": "1fcb0a38-c923-4f8a-9e9a-ff023b0eca1e",
   "metadata": {},
   "outputs": [],
   "source": [
    "\thost_ = input(\"Escribe tu ip: \")\n",
    "\tpuerto_ = int(input(\"Puerto para comunicarse: \"))\n",
    "    \n",
    "\tdef __init__(self, host=host_ , port=puerto_):"
   ]
  },
  {
   "cell_type": "markdown",
   "id": "07e9ae38-b50b-4261-8b6d-463d085d0b33",
   "metadata": {},
   "source": [
    "## Apartado B ---> NICKNAME"
   ]
  },
  {
   "cell_type": "markdown",
   "id": "dd1e5cb6-b42f-4c60-b4f2-cd7ff5cef636",
   "metadata": {},
   "source": [
    "Cliente.py"
   ]
  },
  {
   "cell_type": "code",
   "execution_count": null,
   "id": "aa5a1521-80d9-4840-972a-5d6238654624",
   "metadata": {},
   "outputs": [],
   "source": [
    "import threading\n",
    "import sys\n",
    "import socket\n",
    "import pickle\n",
    "import os\n",
    "\n",
    "class Cliente():\n",
    "\n",
    "\thost_ = input(\"Escribe la ip a donde desea conectarse: \")\n",
    "\tpuerto_ = int(input(\"Escriba el puerto con el que desea comunicarse: \"))\n",
    "\tnombre = input(\"nickname: \")\n",
    "\tdef __init__(self, host=host_ , port=puerto_, nickname=nombre):\n",
    "\t\tself.sock = socket.socket()\n",
    "\t\tself.sock.connect((str(host), int(port)))\n",
    "\t\thilo_recv_mensaje = threading.Thread(target=self.recibir)\n",
    "\t\thilo_recv_mensaje.daemon = True\n",
    "\t\thilo_recv_mensaje.start()\n",
    "\t\tprint('Hilo con PID',os.getpid())\n",
    "\t\tprint('Hilos activos', threading.active_count())\n",
    "\n",
    "\t\twhile True:\n",
    "\t\t\tmsg = input('\\nEscriba texto ? ** Enviar = ENTER ** Abandonar Chat = Q \\n')\n",
    "\t\t\tif msg != 'Q' :\n",
    "\t\t\t\tself.enviar(nickname + \"; \" + msg)\n",
    "\t\t\telse:\n",
    "\t\t\t\tprint(\" **** TALOGOOO  ****\")\n",
    "\t\t\t\tself.sock.close()\n",
    "\t\t\t\tsys.exit()\n",
    "\n",
    "\tdef recibir(self):\n",
    "\t\twhile True:\n",
    "\t\t\ttry:\n",
    "\t\t\t\tdata = self.sock.recv(32)\n",
    "\t\t\t\tif data:\n",
    "\t\t\t\t\tprint(pickle.loads(data))\n",
    "\t\t\texcept:\n",
    "\t\t\t\tpass\n",
    "\n",
    "\tdef enviar(self, msg):\n",
    "\t\tself.sock.send(pickle.dumps(msg))\n",
    "\n",
    "c = Cliente()"
   ]
  },
  {
   "cell_type": "markdown",
   "id": "ee95476f-6932-4962-81ad-d62983bb7101",
   "metadata": {
    "tags": []
   },
   "source": [
    "### En este caso ademas de  preguntarle por la ip y el puerto, le pedimos un nombre de usuario para identificarse en el chat."
   ]
  },
  {
   "cell_type": "code",
   "execution_count": null,
   "id": "8406282a-050e-4609-9087-78bd116e7fb1",
   "metadata": {},
   "outputs": [],
   "source": [
    "    host_ = input(\"Escribe la ip a donde desea conectarse: \")\n",
    "\tpuerto_ = int(input(\"Escriba el puerto con el que desea comunicarse: \"))\n",
    "\tnombre = input(\"nickname: \")\n",
    "\tdef __init__(self, host=host_ , port=puerto_, nickname=nombre):"
   ]
  },
  {
   "cell_type": "markdown",
   "id": "0ca814fa-dab3-44db-ab54-84fb34b87b6f",
   "metadata": {},
   "source": [
    "### Luego al hacer el envio del mensaje, le mandamos el nickname con el mensaje incluido despues del nickname"
   ]
  },
  {
   "cell_type": "code",
   "execution_count": null,
   "id": "3c53b443-666f-49c0-844d-ced5875801e1",
   "metadata": {},
   "outputs": [],
   "source": [
    "\tmsg = input('\\nEscriba texto ? ** Enviar = ENTER ** Abandonar Chat = Q \\n')\n",
    "\t\t\tif msg != 'Q' :\n",
    "\t\t\t\tself.enviar(nickname + \"; \" + msg)"
   ]
  },
  {
   "cell_type": "markdown",
   "id": "d16771f6-ad73-4028-b895-11cc5addf2eb",
   "metadata": {},
   "source": [
    "## Apartado C --> LISTA DE USUARIOS"
   ]
  },
  {
   "cell_type": "code",
   "execution_count": null,
   "id": "747ec0de-a0fe-4742-ac40-4f4e20853d5d",
   "metadata": {},
   "outputs": [],
   "source": [
    "import threading\n",
    "import sys\n",
    "import socket\n",
    "import pickle\n",
    "import os\n",
    "\n",
    "class Cliente():\n",
    "    host_ = input(\"Escribe la ip a donde desea conectarse: \")\n",
    "\tport_ = int(input(\"Escriba el puerto con el que desea comunicarse: \"))\n",
    "    nick = input(\"Nombre de usuario: \")\n",
    "\n",
    "    nicks = []\n",
    "\n",
    "    def __init__(self, host=host_, port=port_, nickname=nick):\n",
    "        self.sock = socket.socket()\n",
    "        self.sock.connect((str(host), int(port)))\n",
    "        hilo_recv_mensaje = threading.Thread(target=self.recibir)\n",
    "        hilo_recv_mensaje.daemon = True\n",
    "        hilo_recv_mensaje.start()\n",
    "        print('Hilo con PID', os.getpid())\n",
    "        print('Hilos activos', threading.active_count())\n",
    "        self.enviarNick(nickname)\n",
    "\n",
    "        while True:\n",
    "            msg = input('\\nEscriba texto ? ** Enviar = ENTER ** Abandonar Chat = Q \\n')\n",
    "            if msg != 'Q':\n",
    "                self.enviar(nickname + \": \" + msg)\n",
    "            else:\n",
    "                print(\" **** TALOGOOO  ****\")\n",
    "                self.sock.close()\n",
    "                sys.exit()\n",
    "\n",
    "    def recibir(self):\n",
    "        while True:\n",
    "            try:\n",
    "                data = self.sock.recv(32)\n",
    "                if data:\n",
    "                    print(pickle.loads(data))\n",
    "            except:\n",
    "                pass\n",
    "\n",
    "    def enviar(self, msg):\n",
    "        self.sock.send(pickle.dumps(msg))\n",
    "\n",
    "    def enviarNick(self, nick_):\n",
    "        self.sock.send(pickle.dumps(nick_))\n",
    "\n",
    "\n",
    "c = Cliente()\n"
   ]
  },
  {
   "cell_type": "markdown",
   "id": "e8a2fcfe-f68a-4f96-bcfd-24864b7e4652",
   "metadata": {},
   "source": [
    "cliente.py"
   ]
  },
  {
   "cell_type": "markdown",
   "id": "a28e13ba-2b6f-473b-bf80-8e353ab6e5c3",
   "metadata": {},
   "source": [
    "servidor.py"
   ]
  },
  {
   "cell_type": "code",
   "execution_count": null,
   "id": "6d711179-525f-4583-a685-4aa72b8fa4dc",
   "metadata": {
    "tags": []
   },
   "outputs": [],
   "source": [
    "import socket\n",
    "import threading\n",
    "import sys\n",
    "import pickle\n",
    "import os\n",
    "\n",
    "class Servidor():\n",
    "\n",
    "    def __init__(self, host=socket.gethostname(), port=50000):\n",
    "        self.nicks = []\n",
    "        self.clientes = []\n",
    "        self.sock = socket.socket()\n",
    "        self.sock.bind((str(host), int(port)))\n",
    "        self.sock.listen(20)\n",
    "        self.sock.setblocking(False)\n",
    "\n",
    "        aceptar = threading.Thread(target=self.aceptarC)\n",
    "        procesar = threading.Thread(target=self.procesarC)\n",
    "\n",
    "        aceptar.daemon = True\n",
    "        aceptar.start()\n",
    "\n",
    "        procesar.daemon = True\n",
    "        procesar.start()\n",
    "\n",
    "        while True:\n",
    "            msg = input('SALIR = Q\\n')\n",
    "            if msg == 'Q':\n",
    "                print(\"**** TALOGOOO *****\")\n",
    "                self.sock.close()\n",
    "                sys.exit()\n",
    "            elif msg == 'p':\n",
    "                print(self.nicks)\n",
    "            else:\n",
    "                pass\n",
    "\n",
    "    def broadcast(self, msg, cliente):\n",
    "        for c in self.clientes:\n",
    "            try:\n",
    "                if c != cliente:\n",
    "                    c.send(msg)\n",
    "            except:\n",
    "                self.clientes.remove(c)\n",
    "\n",
    "    def aceptarC(self):\n",
    "        while True:\n",
    "            try:\n",
    "                conn, addr = self.sock.accept()\n",
    "                print(f\"\\nConexion aceptada via {conn}\\n\")\n",
    "                conn.setblocking(False)\n",
    "                self.clientes.append(conn)\n",
    "            except:\n",
    "                pass\n",
    "\n",
    "    def procesarC(self):\n",
    "        print(\"Procesamiento de mensajes iniciado\")\n",
    "        while True:\n",
    "            if len(self.clientes) > 0:\n",
    "                for c in self.clientes:\n",
    "                    try:\n",
    "                        data = c.recv(32)\n",
    "                        if data:\n",
    "                            self.broadcast(data, c)\n",
    "                            if \": \" not in pickle.loads(data):\n",
    "                                self.nicks.append(pickle.loads(data))\n",
    "                            print(pickle.loads(data))\n",
    "                            \n",
    "                    except:\n",
    "                        pass\n",
    "\n",
    "s = Servidor()\n"
   ]
  },
  {
   "cell_type": "markdown",
   "id": "c62918cd-2784-4fb4-a2db-8b378e7bf1b3",
   "metadata": {},
   "source": [
    "### Lo que hacemos en este caso es comprobar con el if \": \" si lo que recibimos es un mensaje o un nombre de usuario. Cuando filtramos y hacemos la comprobacion, el nombre de usuario va directo a un array para guardarlos todos de seguido y si no es el caso el programa no guarda nada y muestra el mesnaje por pantalla al otro usuario conectado."
   ]
  },
  {
   "cell_type": "code",
   "execution_count": null,
   "id": "73911342-2bf7-49a9-9055-42636ad61644",
   "metadata": {},
   "outputs": [],
   "source": [
    "if data:\n",
    "    self.broadcast(data, c)\n",
    "    if \": \" not in pickle.loads(data):\n",
    "        self.nicks.append(pickle.loads(data))\n",
    "    print(pickle.loads(data))"
   ]
  },
  {
   "cell_type": "markdown",
   "id": "95460594-a86f-4f16-9fc1-6a319afc8a24",
   "metadata": {},
   "source": [
    "### Además, si enviamos desde el servidor la letra p, nos va a mostrar dicho array con toda la gente conectada en el servidor"
   ]
  },
  {
   "cell_type": "code",
   "execution_count": null,
   "id": "7283a2a4-a837-43ff-8c12-43d5a79d7092",
   "metadata": {},
   "outputs": [],
   "source": [
    "while True:\n",
    "    msg = input('SALIR = Q\\n')\n",
    "    if msg == 'Q':\n",
    "        print(\"**** TALOGOOO *****\")\n",
    "        self.sock.close()\n",
    "        sys.exit()\n",
    "    elif msg == 'p':\n",
    "        print(self.nicks)\n",
    "    else:\n",
    "        pass"
   ]
  },
  {
   "cell_type": "markdown",
   "id": "80eb9aa6-00dc-4bf3-be4e-456206b1179a",
   "metadata": {},
   "source": [
    "## Apartado D ---> LOG"
   ]
  },
  {
   "cell_type": "markdown",
   "id": "e5f65e1f-b96f-4740-8119-82641c640d87",
   "metadata": {},
   "source": [
    "Servidor.py"
   ]
  },
  {
   "cell_type": "code",
   "execution_count": null,
   "id": "8e015f68-da91-453f-9cc8-fa49a08482bf",
   "metadata": {},
   "outputs": [],
   "source": [
    "import socket\n",
    "import threading\n",
    "import sys\n",
    "import pickle\n",
    "import os\n",
    "\n",
    "class Servidor():\n",
    "\n",
    "    def __init__(self, host=socket.gethostname(), port=50000):\n",
    "        self.nicks = []\n",
    "        self.clientes = []\n",
    "        self.sock = socket.socket()\n",
    "        self.sock.bind((str(host), int(port)))\n",
    "        self.sock.listen(20)\n",
    "        self.sock.setblocking(False)\n",
    "\n",
    "        aceptar = threading.Thread(target=self.aceptarC)\n",
    "        procesar = threading.Thread(target=self.procesarC)\n",
    "\n",
    "        aceptar.daemon = True\n",
    "        aceptar.start()\n",
    "\n",
    "        procesar.daemon = True\n",
    "        procesar.start()\n",
    "\n",
    "        while True:\n",
    "            msg = input('SALIR = Q\\n')\n",
    "            if msg == 'Q':\n",
    "                print(\"**** TALOGOOO *****\")\n",
    "                self.sock.close()\n",
    "                sys.exit()\n",
    "            elif msg == 'p':\n",
    "                print(self.nicks)\n",
    "            else:\n",
    "                pass\n",
    "\n",
    "    def broadcast(self, msg, cliente):\n",
    "        for c in self.clientes:\n",
    "            try:\n",
    "                if c != cliente:\n",
    "                    c.send(msg)\n",
    "            except:\n",
    "                self.clientes.remove(c)\n",
    "\n",
    "    def aceptarC(self):\n",
    "        while True:\n",
    "            try:\n",
    "                conn, addr = self.sock.accept()\n",
    "                print(f\"\\nConexion aceptada via {conn}\\n\")\n",
    "                conn.setblocking(False)\n",
    "                self.clientes.append(conn)\n",
    "            except:\n",
    "                pass\n",
    "\n",
    "    def procesarC(self):\n",
    "        print(\"Procesamiento de mensajes iniciado\")\n",
    "        while True:\n",
    "            if len(self.clientes) > 0:\n",
    "                for c in self.clientes:\n",
    "                    try:\n",
    "                        data = c.recv(32)\n",
    "                        if data:\n",
    "                            self.broadcast(data, c)\n",
    "                            if \": \" not in pickle.loads(data):\n",
    "                                self.nicks.append(pickle.loads(data))\n",
    "                            else:\n",
    "                                f = open(\"log-22067726.txt\", \"a\") #la a es para activar el modo append de escritura en el fichero.\n",
    "                                f.write(pickle.loads(data) + \"\\n\")\n",
    "                                f.close()\n",
    "                            print(pickle.loads(data))\n",
    "\n",
    "                    except:\n",
    "                        pass\n",
    "\n",
    "s = Servidor()\n",
    "\n"
   ]
  },
  {
   "cell_type": "markdown",
   "id": "4ad9ff4c-4242-4b94-a320-1e9697d7cd6a",
   "metadata": {},
   "source": [
    "### Basicamente despues de ver que funciona correctamente los mensajes utilizamos los ficheros para escribir y crear el documento .txt donde vamos a registrar todo el log de nuestro programa. "
   ]
  },
  {
   "cell_type": "code",
   "execution_count": null,
   "id": "cb2e1481-7dce-4620-8267-2384fde637c4",
   "metadata": {},
   "outputs": [],
   "source": [
    "f = open(\"log-22067726.txt\", \"a\") #la a es para activar el modo append de escritura en el fichero.\n",
    "f.write(pickle.loads(data) + \"\\n\")\n",
    "f.close()"
   ]
  }
 ],
 "metadata": {
  "kernelspec": {
   "display_name": "Python 3",
   "language": "python",
   "name": "python3"
  },
  "language_info": {
   "codemirror_mode": {
    "name": "ipython",
    "version": 3
   },
   "file_extension": ".py",
   "mimetype": "text/x-python",
   "name": "python",
   "nbconvert_exporter": "python",
   "pygments_lexer": "ipython3",
   "version": "3.8.8"
  }
 },
 "nbformat": 4,
 "nbformat_minor": 5
}
