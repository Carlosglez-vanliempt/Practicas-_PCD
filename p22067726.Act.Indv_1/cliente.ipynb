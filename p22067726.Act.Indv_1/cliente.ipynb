{
 "cells": [
  {
   "cell_type": "code",
   "execution_count": null,
   "id": "5becc41d-24c6-4757-a04f-ff401d9954b4",
   "metadata": {},
   "outputs": [],
   "source": [
    "import threading\n",
    "import sys\n",
    "import socket\n",
    "import pickle\n",
    "import os"
   ]
  },
  {
   "cell_type": "code",
   "execution_count": null,
   "id": "4252e2bf-bd3f-4e9b-aa2f-0c69e731a432",
   "metadata": {},
   "outputs": [],
   "source": [
    "class Cliente():\n",
    "\n",
    "\t# def __init__(self, host = '10.34.84.147', port=61000):\n",
    "\tdef __init__(self, host= input(\"Escriba la IP: \"), port= input(\"Escriba el puerto: \")):\n",
    "\t\tself.sock = socket.socket()\n",
    "\t\tusername = input('Username: ')\n",
    "\t\tself.sock.connect((str(host), int(port)))\n",
    "\t\thilo_recv_mensaje = threading.Thread(target=self.recibir)\n",
    "\t\thilo_recv_mensaje.daemon = True\n",
    "\t\thilo_recv_mensaje.start()\n",
    "\t\t\n",
    "\t\tfor thread in threading.enumerate():\n",
    "\t\t\tprint(\"Hilo: \" + thread.name + \"\\n\" + \"Proceso PID: \"+ str(os.getpid()) + \"\\n\" + \"Daemon: \" + str(thread.daemon) +  \"\\n\")\n",
    "\t\tprint(\"Hilos totales: \" + str(threading.activeCount()-1))\n",
    "\n",
    "\t\tself.enviar(\"<\" + username + \"> se ha conectado\")\n",
    "\t\twhile True:\n",
    "\t\t\t# msg = input('\\nEscriba texto ? ** Enviar = ENTER ** Abandonar Chat = Q \\n')\n",
    "\t\t\tmsg = input(\"\\n>>\\n\")\n",
    "\t\t\tif msg != 'Q' :\n",
    "\t\t\t\tself.enviar(username + \": \" + msg)\n",
    "\t\t\telse:\n",
    "\t\t\t\tprint(\" ****LOGOUT****\")\n",
    "\t\t\t\tself.sock.close()\n",
    "\t\t\t\tsys.exit()\n",
    "\n",
    "\tdef recibir(self):\n",
    "\t\twhile True:\n",
    "\t\t\ttry:\n",
    "\t\t\t\tdata = self.sock.recv(1024)\n",
    "\t\t\t\tif data:\n",
    "\t\t\t\t\tprint(pickle.loads(data))\n",
    "\t\t\texcept:\n",
    "\t\t\t\tpass\n",
    "\n",
    "\tdef enviar(self, msg):\n",
    "\t\tself.sock.send(pickle.dumps(msg))\n",
    "\t\tdata = pickle.dumps(msg)\n",
    "\t\tif data: \n",
    "\t\t\tprint(pickle.loads(data))\n",
    "c = Cliente()\n"
   ]
  }
 ],
 "metadata": {
  "kernelspec": {
   "display_name": "Python 3",
   "language": "python",
   "name": "python3"
  },
  "language_info": {
   "codemirror_mode": {
    "name": "ipython",
    "version": 3
   },
   "file_extension": ".py",
   "mimetype": "text/x-python",
   "name": "python",
   "nbconvert_exporter": "python",
   "pygments_lexer": "ipython3",
   "version": "3.8.8"
  }
 },
 "nbformat": 4,
 "nbformat_minor": 5
}
