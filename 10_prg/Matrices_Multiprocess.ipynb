{
 "cells": [
  {
   "cell_type": "markdown",
   "id": "fc38fb6f-0ecf-4d3a-a1b2-ff138b623183",
   "metadata": {},
   "source": [
    "### Clase 11 de Noviembre"
   ]
  },
  {
   "cell_type": "code",
   "execution_count": 33,
   "id": "5e278233-ab03-4096-b79f-be665a3e8129",
   "metadata": {},
   "outputs": [],
   "source": [
    "import multiprocessing as mp\n",
    "import os\n",
    "import math"
   ]
  },
  {
   "cell_type": "code",
   "execution_count": 30,
   "id": "cdd0c008-6d02-430e-a8a7-f8f8e9e14407",
   "metadata": {},
   "outputs": [
    {
     "data": {
      "text/plain": [
       "<multiprocessing.sharedctypes.c_long_Array_80 at 0x1c8475468c0>"
      ]
     },
     "execution_count": 30,
     "metadata": {},
     "output_type": "execute_result"
    }
   ],
   "source": [
    "mp.RawArray('i', 80) # i=int(long), l=long, b=byte, h=short"
   ]
  },
  {
   "cell_type": "markdown",
   "id": "26a8458c-ea0d-4372-b4da-072cc6b35b0d",
   "metadata": {},
   "source": [
    "###### Utilizamos el método ceil ( redondear ) para asginar 3 columnas por núcleo en vez de 2.5 para que no se queden columnas sin computo\n",
    "######  en la primera iteración. Además de que deberiamos utilzar una pool y es más complejo || num.filas-columns/n.cores"
   ]
  },
  {
   "cell_type": "code",
   "execution_count": 38,
   "id": "7f7f8d4c-63e5-4bbd-b457-339b3c941a27",
   "metadata": {},
   "outputs": [],
   "source": [
    "size_fila = math.ceil(20/os.cpu_count())\n",
    "size_columna = math.ceil(6/os.cpu_count())\n",
    "cores=[]"
   ]
  },
  {
   "cell_type": "markdown",
   "id": "20141bca-e280-42db-a0da-c35282366c0c",
   "metadata": {},
   "source": [
    "###### Se podría hacer con variables por teclado..."
   ]
  },
  {
   "cell_type": "code",
   "execution_count": 41,
   "id": "f0a9bf44-5337-49a4-a142-30cf5153e180",
   "metadata": {},
   "outputs": [],
   "source": [
    "for core in range(8):\n",
    "    i_mc=min(core*size_f,size_f)\n",
    "    f_mc=min((core+1)*size_f, size_f)"
   ]
  },
  {
   "cell_type": "code",
   "execution_count": null,
   "id": "395b3986-bd75-4906-bf56-a28c5dc608de",
   "metadata": {},
   "outputs": [],
   "source": []
  }
 ],
 "metadata": {
  "kernelspec": {
   "display_name": "Python 3",
   "language": "python",
   "name": "python3"
  },
  "language_info": {
   "codemirror_mode": {
    "name": "ipython",
    "version": 3
   },
   "file_extension": ".py",
   "mimetype": "text/x-python",
   "name": "python",
   "nbconvert_exporter": "python",
   "pygments_lexer": "ipython3",
   "version": "3.8.8"
  }
 },
 "nbformat": 4,
 "nbformat_minor": 5
}
