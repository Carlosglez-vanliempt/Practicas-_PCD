{
 "cells": [
  {
   "cell_type": "markdown",
   "id": "8f33698a-76b3-4103-989c-d83ead87525b",
   "metadata": {},
   "source": [
    "Codigo en clase realizado por sukuz"
   ]
  },
  {
   "cell_type": "markdown",
   "id": "25162f58-4aa8-4925-ab0e-7e75e6541e6c",
   "metadata": {},
   "source": [
    "## Clase 11 de noviembre"
   ]
  },
  {
   "cell_type": "code",
   "execution_count": null,
   "id": "be6cf010-fe12-483d-864a-1d5a8bdc28ef",
   "metadata": {},
   "outputs": [],
   "source": [
    "import multiprocessing as mp\n",
    "import random # Para generar num. aleatorios en la A y B \n",
    "import math\n",
    "import time\n",
    "import matplotlib.pyplot as pl\n",
    "import os\n",
    "import platform as pt"
   ]
  },
  {
   "cell_type": "code",
   "execution_count": null,
   "id": "736dd93f-100f-4900-965a-64f39c8ffa05",
   "metadata": {},
   "outputs": [],
   "source": [
    "mc = mp.RawArray('i',10) # d = dobule, h = short, i = integer, b = byte, l = long"
   ]
  },
  {
   "cell_type": "code",
   "execution_count": null,
   "id": "5ceec9e6-103b-4955-9d39-d60ceee4148f",
   "metadata": {},
   "outputs": [],
   "source": [
    "mc"
   ]
  },
  {
   "cell_type": "code",
   "execution_count": null,
   "id": "31a9f8f1-58d0-4750-bafe-ff887b4c9cb7",
   "metadata": {},
   "outputs": [],
   "source": [
    "def sec_mult(A, B): # f() que calcula la mult. en secuencial, como toda la vida se ha hecho \n",
    "    C = [[0] * n_col_B for i in range(n_fil_A)] # Crear y poblar la matrix  C = A*B\n",
    "    for i in range(n_fil_A): # Hago la multiplicacion de AxB = C, i para iterar sobre las filas de A\n",
    "        for j in range(n_col_B): # j para iterar sobre las columnas de B\n",
    "            for k in range(n_col_A): # k para iterar en C\n",
    "                C[i][j] += A[i][k] * B[k][j] # Aqui se hace la multiplicación y guardo en C.\n",
    "    return C\n",
    "\n",
    "def par_mult(A, B): # f() que prepara el reparto de trabajo para la mult. en paralelo\n",
    "    n_cores = mp.cpu_count() # Obtengo los cores de mi pc\n",
    "    size_col = math.ceil(n_col_B/n_cores) # Columnas  a procesar x c/cpre, ver Excel adjunto\n",
    "    size_fil = math.ceil(n_fil_A/n_cores) # Filas a procesar x c/cpre, ver Excel adjunto\n",
    "    MC = mp.RawArray('h', n_fil_A * n_col_B) # Array MC de memoria compartida donde se almacenaran los resultados, ver excel adjunto\n",
    "    cores = [] # Array para guardar los cores y su trabajo\n",
    "    for core in range(n_cores):# Asigno a cada core el trabajo que le toca, ver excel adjunto\n",
    "        i_MC = min(core * size_fil, n_fil_A) # Calculo i para marcar inicio del trabajo del core en relacion a las filas\n",
    "        f_MC = min((core + 1) * size_fil, n_fil_A) # Calculo f para marcar fin del trabajo del core, ver excel\n",
    "        cores.append(mp.Process(target=par_core, args=(A, B, MC, i_MC, f_MC)))# Añado al Array los cores y su trabajo\n",
    "    for core in cores:\n",
    "        core.start()# Arranco y ejecuto el trabajo para c/ uno de los cores que tenga mi equipo, ver excel\n",
    "    # for core in cores:\n",
    "    #     core.join()# Bloqueo cualquier llamada hasta que terminen su trabajo todos los cores\n",
    "    C_2D = [[0] * n_col_B for i in range(n_fil_A)] # Convierto el array unidimensional MC en una matrix 2D (C_2D) \n",
    "    for i in range(n_fil_A):# i para iterar sobre las filas de A\n",
    "        for j in range(n_col_B):# j para iterar sobre las columnas de B\n",
    "            C_2D[i][j] = MC[i*n_col_B + j] # Guardo el C_2D los datos del array MC\n",
    "    return C_2D\n",
    "\n",
    "def par_core(A, B, MC, i_MC, f_MC): # La tarea que hacen todos los cores\n",
    "    for i in range(i_MC, f_MC): # Size representado en colores en el excel que itera sobre las filas en A\n",
    "        for j in range(len(B[0])): # Size representado en colores en el excel que itera sobre las columnas en B\n",
    "            for k in range(len(A[0])): # n_fil_B o lo que es l mismo el n_col_A\n",
    "                MC[i*len(B[0]) + j] += A[i][k] * B[k][j]# Guarda resultado en MC[] de cada core\n",
    "\n",
    "filasA = int(input(\"Cuantas filas quieres?\"))\n",
    "columnasA = int(input(\"Cuantas columnas quieres?\"))\n",
    "filasB = int(input(\"Cuantas filas quieres?\"))\n",
    "columnasB = int(input(\"Cuantas columnas quieres?\"))\n",
    "                \n",
    "                \n",
    "if __name__ == '__main__':\n",
    "    A = [[random.randint(0,9) for i in range(columnasA)] for j in range(filasA)] # Genero A[22067726][6]con num. aleatorios del 0 al 215, ver excel\n",
    "    B = [[random.randint(0,9) for i in range(columnasB)] for j in range(filasB)] # Genero B[6][22067726]con num. aleatorios del 0 al 215, ver excel\n",
    "    n_fil_A = len(A) # Obtengo num de filas de A \n",
    "    n_col_A = len(A[0]) # Obtengo num de colunmas de A \n",
    "    n_fil_B = len(B) # Obtengo num de filas de B\n",
    "    n_col_B = len(B[0]) # # Obtengo num de filas de B\n",
    "    if n_col_A != n_fil_B: raise Exception('Dimensiones no validas') # Compruebo que se puedan multiplicar A y B\n",
    "    inicioS = time.time()\n",
    "    sec_mult(A, B) # Ejecuto multiplicacion secuencial\n",
    "    finS = time.time()\n",
    "    inicioP = time.time()\n",
    "    par_mult(A, B) # Ejecuto multiplicacion paralela\n",
    "    finP = time.time()\n",
    "    print('\\n\\nMatriz  A y B se han multiplicado con exito en SECUENCIAL ha tardado ', finS-inicioS, ' y en PARALELO ', finP-inicioP)\n",
    "\n",
    "nombres = [\"Secuencial\", \"Paralelo\"]\n",
    "datos = [finS-inicioS, finP-inicioP]\n",
    "    \n",
    "grafica = pl.bar(nombres, datos)\n",
    "grafica\n",
    "\n",
    "titulo = \"Comparativa realizada en un \" + str(pt.architecture()) + \" con \" + str(os.cpu_count()) + \" cores\"\n",
    "pl.title(titulo)\n",
    "pl.savefig('img22067726')"
   ]
  },
  {
   "cell_type": "code",
   "execution_count": null,
   "id": "80e0422d-c481-41b4-a42a-7a97dcc86d97",
   "metadata": {
    "tags": []
   },
   "outputs": [],
   "source": [
    "math.ceil(20/os.cpu_count()) ##esto me sirve por si me quedo 2,5 pues para llegar al siguiente numero superior --> 3"
   ]
  },
  {
   "cell_type": "code",
   "execution_count": null,
   "id": "d2a03aed-8a86-4e92-b8cd-dc19fb21636c",
   "metadata": {},
   "outputs": [],
   "source": [
    "os.cpu_count()"
   ]
  },
  {
   "cell_type": "code",
   "execution_count": null,
   "id": "1fecf524-7846-4c45-b27b-7cd75288a9d5",
   "metadata": {},
   "outputs": [],
   "source": [
    "pwd"
   ]
  },
  {
   "cell_type": "code",
   "execution_count": null,
   "id": "5c92fac8-6ea2-4919-88f9-12139e871f98",
   "metadata": {},
   "outputs": [],
   "source": [
    "! python3 codigo.py"
   ]
  },
  {
   "cell_type": "code",
   "execution_count": null,
   "id": "f94eba34-4f5f-460d-8ead-6a8aa31d0f23",
   "metadata": {},
   "outputs": [],
   "source": []
  }
 ],
 "metadata": {
  "kernelspec": {
   "display_name": "Python 3 (ipykernel)",
   "language": "python",
   "name": "python3"
  },
  "language_info": {
   "codemirror_mode": {
    "name": "ipython",
    "version": 3
   },
   "file_extension": ".py",
   "mimetype": "text/x-python",
   "name": "python",
   "nbconvert_exporter": "python",
   "pygments_lexer": "ipython3",
   "version": "3.9.7"
  }
 },
 "nbformat": 4,
 "nbformat_minor": 5
}
