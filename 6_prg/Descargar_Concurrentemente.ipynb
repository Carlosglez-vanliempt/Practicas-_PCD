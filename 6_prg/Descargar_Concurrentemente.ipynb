{
 "cells": [
  {
   "cell_type": "markdown",
   "id": "ad7b22ee-0f45-40a1-8219-87a14a3ccefd",
   "metadata": {},
   "source": [
    "# 5 PROGRAM"
   ]
  },
  {
   "cell_type": "markdown",
   "id": "ac7ec0f2-17ef-4d67-9db2-308eef7524a9",
   "metadata": {},
   "source": [
    "### Descargar archivos de manera concurrente"
   ]
  },
  {
   "cell_type": "code",
   "execution_count": 2,
   "id": "261367b9-20ff-43f6-8d21-8c4812eaf12a",
   "metadata": {},
   "outputs": [],
   "source": [
    "import threading as th\n",
    "import urllib.request as rq\n",
    "\n",
    "import time\n",
    "import concurrent"
   ]
  },
  {
   "cell_type": "code",
   "execution_count": 3,
   "id": "86b95a3d-6afa-42f1-842a-5ecca7585438",
   "metadata": {},
   "outputs": [],
   "source": [
    "url = \"https://storage.googleapis.com/christian_vladimir_sucuzhanay_bucket/pictures_videos/pic000.jpeg\""
   ]
  },
  {
   "cell_type": "code",
   "execution_count": 5,
   "id": "598cad5f-55eb-401a-ad2b-c285dfcc4b4a",
   "metadata": {},
   "outputs": [
    {
     "name": "stdin",
     "output_type": "stream",
     "text": [
      "number 6\n"
     ]
    }
   ],
   "source": [
    "img=int(input(\"number\"))"
   ]
  },
  {
   "cell_type": "code",
   "execution_count": 6,
   "id": "56c1ea4e-a221-4134-a45e-e1be84ba74f5",
   "metadata": {},
   "outputs": [],
   "source": [
    "def descargar_a_mano(lt):\n",
    "    wt=0\n",
    "    for i in lt:\n",
    "        wt +=descargar(i)\n",
    "    return wt"
   ]
  },
  {
   "cell_type": "code",
   "execution_count": 7,
   "id": "0f721bc3-2fc0-4113-993a-b26f0a37237f",
   "metadata": {},
   "outputs": [],
   "source": [
    "def descargar_a_toda_maquina(lt):\n",
    "    wt=0\n",
    "    with concurrent.futures.ThreadPoolExecutor() as wk:\n",
    "        futures=[wk.submit(descargar,i) for i in lt]\n",
    "        for f in concurrent.futures.as_completed(futures):\n",
    "            wt+=f.result()\n",
    "    return wt"
   ]
  },
  {
   "cell_type": "code",
   "execution_count": 8,
   "id": "af6c5950-d782-4d54-9f3e-59a03accd8c6",
   "metadata": {},
   "outputs": [],
   "source": [
    "def descargar(img):\n",
    "    img=abs(img) ##metodo para el parcial, ya qeu la lista nos la dará modificada\n",
    "    img_url = 'https://storage.googleapis.com/christian_vladimir_sucuzhanay_bucket/pictures_videos/pic{:03d}.jpeg'.format(img)\n",
    "    \n",
    "    with rq.urlopen(img_url, timeout=80) as conn:\n",
    "        return len(conn.read()) ##len=lenght\n",
    "    pass"
   ]
  },
  {
   "cell_type": "code",
   "execution_count": 9,
   "id": "d21169cb-aea7-4434-9945-d8983b1aae62",
   "metadata": {},
   "outputs": [
    {
     "name": "stdout",
     "output_type": "stream",
     "text": [
      "8.052043400000002\n",
      "6.002518199999997\n",
      "Diferencia es de: 1.34\n"
     ]
    }
   ],
   "source": [
    "if __name__ == '__main__':\n",
    "    l=list(range(10))\n",
    "    start = time.perf_counter()\n",
    "    a_mano_r = descargar_a_mano(l)\n",
    "    a_mano_t = 0\n",
    "    a_mano_t += time.perf_counter() - start\n",
    "    print(a_mano_t)\n",
    "    \n",
    "    start = time.perf_counter()\n",
    "    descargar_a_toda_maquina_r = descargar_a_toda_maquina(l)\n",
    "    a_toda_maquina_t = 0\n",
    "    a_toda_maquina_t += time.perf_counter() - start\n",
    "    print(a_toda_maquina_t)\n",
    "    \n",
    "    print('Diferencia es de: {:.2f}'.format(a_mano_t/a_toda_maquina_t))\n",
    "    "
   ]
  },
  {
   "cell_type": "code",
   "execution_count": 10,
   "id": "e7dbe7d9-131d-4507-9572-8567496db32c",
   "metadata": {},
   "outputs": [],
   "source": [
    "##for i in range(10):\n",
    "  ##  urls = \"https://storage.googleapis.com/christian_vladimir_sucuzhanay_bucket/pictures_videos/pic00\"+str(i)+\".jpeg\"\n",
    "  ##  threading.Thread(target=descargar().start()\n",
    "    "
   ]
  },
  {
   "cell_type": "code",
   "execution_count": null,
   "id": "60cf0d90-d3e4-4c02-8676-5d83ebfe363d",
   "metadata": {},
   "outputs": [],
   "source": []
  },
  {
   "cell_type": "code",
   "execution_count": null,
   "id": "e5cf32b5-06de-4f50-b3b8-57bfedcaacaf",
   "metadata": {},
   "outputs": [],
   "source": []
  }
 ],
 "metadata": {
  "kernelspec": {
   "display_name": "Python 3",
   "language": "python",
   "name": "python3"
  },
  "language_info": {
   "codemirror_mode": {
    "name": "ipython",
    "version": 3
   },
   "file_extension": ".py",
   "mimetype": "text/x-python",
   "name": "python",
   "nbconvert_exporter": "python",
   "pygments_lexer": "ipython3",
   "version": "3.8.8"
  }
 },
 "nbformat": 4,
 "nbformat_minor": 5
}
