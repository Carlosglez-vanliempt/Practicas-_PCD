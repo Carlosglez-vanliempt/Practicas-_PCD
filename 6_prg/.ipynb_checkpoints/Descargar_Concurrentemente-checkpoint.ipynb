{
 "cells": [
  {
   "cell_type": "markdown",
   "id": "ad7b22ee-0f45-40a1-8219-87a14a3ccefd",
   "metadata": {},
   "source": [
    "# 5 PROGRAM"
   ]
  },
  {
   "cell_type": "markdown",
   "id": "ac7ec0f2-17ef-4d67-9db2-308eef7524a9",
   "metadata": {},
   "source": [
    "### Descargar archivos de manera concurrente"
   ]
  },
  {
   "cell_type": "code",
   "execution_count": 35,
   "id": "261367b9-20ff-43f6-8d21-8c4812eaf12a",
   "metadata": {},
   "outputs": [],
   "source": [
    "import threading as th\n",
    "import urllib.request as rq\n",
    "\n",
    "import time\n",
    "import concurrent"
   ]
  },
  {
   "cell_type": "code",
   "execution_count": 12,
   "id": "86b95a3d-6afa-42f1-842a-5ecca7585438",
   "metadata": {},
   "outputs": [],
   "source": [
    "url = \"https://storage.googleapis.com/christian_vladimir_sucuzhanay_bucket/pictures_videos/pic000.jpeg\""
   ]
  },
  {
   "cell_type": "code",
   "execution_count": 27,
   "id": "598cad5f-55eb-401a-ad2b-c285dfcc4b4a",
   "metadata": {},
   "outputs": [
    {
     "name": "stdin",
     "output_type": "stream",
     "text": [
      "number 6\n"
     ]
    }
   ],
   "source": [
    "img=int(input(\"number\"))"
   ]
  },
  {
   "cell_type": "code",
   "execution_count": 36,
   "id": "56c1ea4e-a221-4134-a45e-e1be84ba74f5",
   "metadata": {},
   "outputs": [],
   "source": [
    "def descargar_a_mano(lt):\n",
    "    wt=0\n",
    "    for i in lt:\n",
    "        wt +=descargar(i)\n",
    "    return wt"
   ]
  },
  {
   "cell_type": "code",
   "execution_count": 37,
   "id": "0f721bc3-2fc0-4113-993a-b26f0a37237f",
   "metadata": {},
   "outputs": [],
   "source": [
    "def descargar_a_toda_maquina(lt):\n",
    "    wt=0\n",
    "    with concurrent.futures.ThreadPoolExecutor() as wk:\n",
    "        futures=[wk.submit(dwl,i) for i in lt]\n",
    "        for f in concurrent.as_completed(futures):\n",
    "            wt+=f.result()\n",
    "    return wt"
   ]
  },
  {
   "cell_type": "code",
   "execution_count": 38,
   "id": "af6c5950-d782-4d54-9f3e-59a03accd8c6",
   "metadata": {},
   "outputs": [],
   "source": [
    "def descargar(img):\n",
    "    img=abs(img) ##metodo para el parcial, ya qeu la lista nos la dará modificada\n",
    "    img_url = 'https://storage.googleapis.com/christian_vladimir_sucuzhanay_bucket/pictures_videos/pic{:03d}.jpeg'.format(img)\n",
    "    \n",
    "    with rq.urlopen(img_url, timeout=80) as conn:\n",
    "        return len(conn.read()) ##len=lenght\n",
    "    pass"
   ]
  },
  {
   "cell_type": "code",
   "execution_count": 39,
   "id": "d21169cb-aea7-4434-9945-d8983b1aae62",
   "metadata": {},
   "outputs": [
    {
     "name": "stdout",
     "output_type": "stream",
     "text": [
      "6.028231900000264\n"
     ]
    },
    {
     "ename": "AttributeError",
     "evalue": "module concurrent.futures has no attribute ThreadpoolExecutor",
     "output_type": "error",
     "traceback": [
      "\u001b[1;31m---------------------------------------------------------------------------\u001b[0m",
      "\u001b[1;31mAttributeError\u001b[0m                            Traceback (most recent call last)",
      "\u001b[1;32m<ipython-input-39-f7aa5d086461>\u001b[0m in \u001b[0;36m<module>\u001b[1;34m\u001b[0m\n\u001b[0;32m      8\u001b[0m \u001b[1;33m\u001b[0m\u001b[0m\n\u001b[0;32m      9\u001b[0m     \u001b[0mstart\u001b[0m \u001b[1;33m=\u001b[0m \u001b[0mtime\u001b[0m\u001b[1;33m.\u001b[0m\u001b[0mperf_counter\u001b[0m\u001b[1;33m(\u001b[0m\u001b[1;33m)\u001b[0m\u001b[1;33m\u001b[0m\u001b[1;33m\u001b[0m\u001b[0m\n\u001b[1;32m---> 10\u001b[1;33m     \u001b[0mdescargar_a_toda_maquina_r\u001b[0m \u001b[1;33m=\u001b[0m \u001b[0mdescargar_a_toda_maquina\u001b[0m\u001b[1;33m(\u001b[0m\u001b[0ml\u001b[0m\u001b[1;33m)\u001b[0m\u001b[1;33m\u001b[0m\u001b[1;33m\u001b[0m\u001b[0m\n\u001b[0m\u001b[0;32m     11\u001b[0m     \u001b[0ma_toda_maquina_t\u001b[0m \u001b[1;33m=\u001b[0m \u001b[1;36m0\u001b[0m\u001b[1;33m\u001b[0m\u001b[1;33m\u001b[0m\u001b[0m\n\u001b[0;32m     12\u001b[0m     \u001b[0ma_toda_maquina_t\u001b[0m \u001b[1;33m+=\u001b[0m \u001b[0mtime\u001b[0m\u001b[1;33m.\u001b[0m\u001b[0mperf_counter\u001b[0m\u001b[1;33m(\u001b[0m\u001b[1;33m)\u001b[0m \u001b[1;33m-\u001b[0m \u001b[0mstart\u001b[0m\u001b[1;33m\u001b[0m\u001b[1;33m\u001b[0m\u001b[0m\n",
      "\u001b[1;32m<ipython-input-37-6f1d08826f2d>\u001b[0m in \u001b[0;36mdescargar_a_toda_maquina\u001b[1;34m(lt)\u001b[0m\n\u001b[0;32m      1\u001b[0m \u001b[1;32mdef\u001b[0m \u001b[0mdescargar_a_toda_maquina\u001b[0m\u001b[1;33m(\u001b[0m\u001b[0mlt\u001b[0m\u001b[1;33m)\u001b[0m\u001b[1;33m:\u001b[0m\u001b[1;33m\u001b[0m\u001b[1;33m\u001b[0m\u001b[0m\n\u001b[0;32m      2\u001b[0m     \u001b[0mwt\u001b[0m\u001b[1;33m=\u001b[0m\u001b[1;36m0\u001b[0m\u001b[1;33m\u001b[0m\u001b[1;33m\u001b[0m\u001b[0m\n\u001b[1;32m----> 3\u001b[1;33m     \u001b[1;32mwith\u001b[0m \u001b[0mconcurrent\u001b[0m\u001b[1;33m.\u001b[0m\u001b[0mfutures\u001b[0m\u001b[1;33m.\u001b[0m\u001b[0mThreadpoolExecutor\u001b[0m\u001b[1;33m(\u001b[0m\u001b[1;33m)\u001b[0m \u001b[1;32mas\u001b[0m \u001b[0mwk\u001b[0m\u001b[1;33m:\u001b[0m\u001b[1;33m\u001b[0m\u001b[1;33m\u001b[0m\u001b[0m\n\u001b[0m\u001b[0;32m      4\u001b[0m         \u001b[0mfutures\u001b[0m\u001b[1;33m=\u001b[0m\u001b[1;33m[\u001b[0m\u001b[0mwk\u001b[0m\u001b[1;33m.\u001b[0m\u001b[0msubmit\u001b[0m\u001b[1;33m(\u001b[0m\u001b[0mdwl\u001b[0m\u001b[1;33m,\u001b[0m\u001b[0mi\u001b[0m\u001b[1;33m)\u001b[0m \u001b[1;32mfor\u001b[0m \u001b[0mi\u001b[0m \u001b[1;32min\u001b[0m \u001b[0mlt\u001b[0m\u001b[1;33m]\u001b[0m\u001b[1;33m\u001b[0m\u001b[1;33m\u001b[0m\u001b[0m\n\u001b[0;32m      5\u001b[0m         \u001b[1;32mfor\u001b[0m \u001b[0mf\u001b[0m \u001b[1;32min\u001b[0m \u001b[0mconcurrent\u001b[0m\u001b[1;33m.\u001b[0m\u001b[0mas_completed\u001b[0m\u001b[1;33m(\u001b[0m\u001b[0mfutures\u001b[0m\u001b[1;33m)\u001b[0m\u001b[1;33m:\u001b[0m\u001b[1;33m\u001b[0m\u001b[1;33m\u001b[0m\u001b[0m\n",
      "\u001b[1;32m~\\anaconda3\\lib\\concurrent\\futures\\__init__.py\u001b[0m in \u001b[0;36m__getattr__\u001b[1;34m(name)\u001b[0m\n\u001b[0;32m     51\u001b[0m         \u001b[1;32mreturn\u001b[0m \u001b[0mte\u001b[0m\u001b[1;33m\u001b[0m\u001b[1;33m\u001b[0m\u001b[0m\n\u001b[0;32m     52\u001b[0m \u001b[1;33m\u001b[0m\u001b[0m\n\u001b[1;32m---> 53\u001b[1;33m     \u001b[1;32mraise\u001b[0m \u001b[0mAttributeError\u001b[0m\u001b[1;33m(\u001b[0m\u001b[1;34mf\"module {__name__} has no attribute {name}\"\u001b[0m\u001b[1;33m)\u001b[0m\u001b[1;33m\u001b[0m\u001b[1;33m\u001b[0m\u001b[0m\n\u001b[0m",
      "\u001b[1;31mAttributeError\u001b[0m: module concurrent.futures has no attribute ThreadpoolExecutor"
     ]
    }
   ],
   "source": [
    "if __name__ == '__main__':\n",
    "    l=list(range(10))\n",
    "    start = time.perf_counter()\n",
    "    a_mano_r = descargar_a_mano(l)\n",
    "    a_mano_t = 0\n",
    "    a_mano_t += time.perf_counter() - start\n",
    "    print(a_mano_t)\n",
    "    \n",
    "    start = time.perf_counter()\n",
    "    descargar_a_toda_maquina_r = descargar_a_toda_maquina(l)\n",
    "    a_toda_maquina_t = 0\n",
    "    a_toda_maquina_t += time.perf_counter() - start\n",
    "    print(a_toda_maquina_t)\n",
    "    \n",
    "    print('Diferencia es de: {:.2f}'.format(a_mano_t/a_toda_maquina_t))\n",
    "    "
   ]
  },
  {
   "cell_type": "code",
   "execution_count": null,
   "id": "e7dbe7d9-131d-4507-9572-8567496db32c",
   "metadata": {},
   "outputs": [],
   "source": [
    "##for i in range(10):\n",
    "  ##  urls = \"https://storage.googleapis.com/christian_vladimir_sucuzhanay_bucket/pictures_videos/pic00\"+str(i)+\".jpeg\"\n",
    "  ##  threading.Thread(target=descargar().start()\n",
    "    "
   ]
  },
  {
   "cell_type": "code",
   "execution_count": null,
   "id": "60cf0d90-d3e4-4c02-8676-5d83ebfe363d",
   "metadata": {},
   "outputs": [],
   "source": []
  }
 ],
 "metadata": {
  "kernelspec": {
   "display_name": "Python 3",
   "language": "python",
   "name": "python3"
  },
  "language_info": {
   "codemirror_mode": {
    "name": "ipython",
    "version": 3
   },
   "file_extension": ".py",
   "mimetype": "text/x-python",
   "name": "python",
   "nbconvert_exporter": "python",
   "pygments_lexer": "ipython3",
   "version": "3.8.8"
  }
 },
 "nbformat": 4,
 "nbformat_minor": 5
}
